{
  "nbformat": 4,
  "nbformat_minor": 0,
  "metadata": {
    "accelerator": "GPU",
    "colab": {
      "name": "assignment_4.ipynb",
      "provenance": [],
      "collapsed_sections": []
    },
    "kernelspec": {
      "display_name": "Python 3",
      "language": "python",
      "name": "python3"
    },
    "language_info": {
      "codemirror_mode": {
        "name": "ipython",
        "version": 3
      },
      "file_extension": ".py",
      "mimetype": "text/x-python",
      "name": "python",
      "nbconvert_exporter": "python",
      "pygments_lexer": "ipython3",
      "version": "3.7.6"
    }
  },
  "cells": [
    {
      "cell_type": "markdown",
      "metadata": {
        "deletable": false,
        "editable": false,
        "id": "64bIrOv5rEYJ",
        "nbgrader": {
          "cell_type": "markdown",
          "checksum": "2e176d1ab1160888bd08953c1fec6598",
          "grade": false,
          "grade_id": "cell-559e06fab022e928",
          "locked": true,
          "schema_version": 3,
          "solution": false
        }
      },
      "source": [
        "## Convolutional Neural Networks\n",
        "\n",
        "In the previous assignment we implemented a neural network using only numpy. We observed that as we added more components to the network (activations, regularization, batchnorm, etc.), the code became very complex and difficult to manage. In this assignment we will start with using the deep learning library, Pytorch that will modularize the components of a network and hide the complexity. \n",
        "\n",
        "The goal of this assignment is to become familiar with PyTorch and to build a neural network using PyTorch for FashionMnist data for Image classification. We have discussed in the lecture that the size of the model increases exponentially with the addition of fully connected layers. It would be impractical to build a deep neural network with only fully connected layers for images. In this assignment, we will build a Convolutional Neural Network that is the most popular approach to extracting features from an image without too much computation (compared to a fully connected layer). \n",
        "\n",
        "**It will be ideal to solve this assignemnet on a computer with a GPU**. The Coursera platform does not support a GPU. You may want to explore [Google Colab](https://www.youtube.com/watch?v=inN8seMm7UI&ab_channel=TensorFlow) or [Kaggle](https://www.kaggle.com/dansbecker/running-kaggle-kernels-with-a-gpu)\n",
        "\n",
        "Along with submitting the Python notebook, save the notebook along with its output after executing all the cells as a .html file and submit the html file as well. "
      ]
    },
    {
      "cell_type": "markdown",
      "metadata": {
        "deletable": false,
        "editable": false,
        "id": "QNjuVk66rEYO",
        "nbgrader": {
          "cell_type": "markdown",
          "checksum": "6da914e441f04a8a66e6dceec29a35c4",
          "grade": false,
          "grade_id": "cell-98105dbd82868b57",
          "locked": true,
          "schema_version": 3,
          "solution": false,
          "task": false
        }
      },
      "source": [
        "We first import the neccesary packages required to build the model. We also fix a seed through out the process to have a deterministic behaviour (reproduce same results) of the model. "
      ]
    },
    {
      "cell_type": "code",
      "metadata": {
        "colab": {
          "base_uri": "https://localhost:8080/"
        },
        "deletable": false,
        "editable": false,
        "id": "9v4EAhu1rEYO",
        "nbgrader": {
          "cell_type": "code",
          "checksum": "19fe0393c09e9a63890d67116c2c72f2",
          "grade": false,
          "grade_id": "cell-675473914c4b9f68",
          "locked": true,
          "schema_version": 3,
          "solution": false
        },
        "outputId": "13da13b0-d6a0-4899-bee5-63aaea7fa6c9"
      },
      "source": [
        "## Imports\n",
        "import os\n",
        "import time\n",
        "import numpy as np\n",
        "import torch\n",
        "import random\n",
        "import torchvision\n",
        "import torchvision.transforms as transforms\n",
        "from torch.utils.data.sampler import SubsetRandomSampler\n",
        "import numpy.testing as npt\n",
        "#from torchsummary import summary\n",
        "# from tqdm import trange\n",
        "\n",
        "# Checks for the availability of GPU \n",
        "is_cuda = torch.cuda.is_available()\n",
        "if torch.cuda.is_available():\n",
        "    print(\"working on gpu!\")\n",
        "else:\n",
        "    print(\"No gpu! only cpu ;)\")\n",
        "    \n",
        "## The following random seeds are just for deterministic behaviour of the code and evaluation\n",
        "\n",
        "##############################################################################\n",
        "################### DO NOT MODIFY THE CODE BELOW #############################    \n",
        "##############################################################################\n",
        "\n",
        "random.seed(0)\n",
        "np.random.seed(0)\n",
        "torch.manual_seed(0)\n",
        "torch.cuda.manual_seed_all(0)\n",
        "torch.backends.cudnn.deterministic = True\n",
        "torch.backends.cudnn.benchmark = False\n",
        "os.environ['PYTHONHASHSEED'] = '0'\n",
        "\n",
        "############################################################################### \n"
      ],
      "execution_count": 1,
      "outputs": [
        {
          "output_type": "stream",
          "text": [
            "working on gpu!\n"
          ],
          "name": "stdout"
        }
      ]
    },
    {
      "cell_type": "markdown",
      "metadata": {
        "deletable": false,
        "editable": false,
        "id": "dBP8tQblrEYQ",
        "nbgrader": {
          "cell_type": "markdown",
          "checksum": "7eb19f0b795a90d9575c1139d3a87e7c",
          "grade": false,
          "grade_id": "cell-9c87add622617c1e",
          "locked": true,
          "schema_version": 3,
          "solution": false
        }
      },
      "source": [
        "### Setting up the DataLoaders\n",
        "\n",
        "In the following cell we will first download and arrange the data. FashionMNIST dataset is already available in the official PyTorch repository. Hence, the following cell checks for the availability of FashionMNIST data and downloads if the data is not available.   \n",
        "\n",
        "The following parts are already written for you to handle the data.\n",
        "- import neccesary pytorch packages for data handling.\n",
        "- We then move the data onto PyTorch tensors.  \n",
        "- Next we define the parameters like batch_size for data handling. A different batch_size for test data is used to     make sure that number of samples in the test data are perfectly divisible.\n",
        "- create dataloaders for training and testing data to iterate."
      ]
    },
    {
      "cell_type": "code",
      "metadata": {
        "deletable": false,
        "editable": false,
        "id": "xueQ11uDrEYQ",
        "nbgrader": {
          "cell_type": "code",
          "checksum": "f9026479c9b2db3497126f8ec4a5868f",
          "grade": false,
          "grade_id": "cell-e518bb36bae17b30",
          "locked": true,
          "schema_version": 3,
          "solution": false
        }
      },
      "source": [
        "import torchvision\n",
        "import torchvision.transforms as transforms\n",
        "import os\n",
        "\n",
        "if not os.path.isdir('./data'):\n",
        "    os.mkdir('./data')\n",
        "root = './data/'\n",
        "\n",
        "# List of transformation on the data - here we will normalize the image data to (-1,1)\n",
        "transform = transforms.Compose([transforms.ToTensor(),transforms.Normalize((0.5), (0.5)),])\n",
        "# Geta  handle to Load the data\n",
        "training_data = torchvision.datasets.FashionMNIST(root, train=True, transform=transform,download=True)\n",
        "testing_data = torchvision.datasets.FashionMNIST(root, train=False, transform=transform,download=True)\n",
        "\n",
        "num_train = len(training_data)\n",
        "indices = list(range(num_train))\n",
        "np.random.shuffle(indices)\n",
        "split = int(np.floor(0.2 * num_train))\n",
        "train_idx, valid_idx = indices[split:], indices[:split]\n",
        "\n",
        "train_bs = 60\n",
        "test_bs = 50\n",
        "\n",
        "train_sampler = SubsetRandomSampler(train_idx)\n",
        "valid_sampler = SubsetRandomSampler(valid_idx)\n",
        "\n",
        "# Create Data loaders which we will use to extract minibatches of data to input to the network for training\n",
        "train_loader = torch.utils.data.DataLoader(training_data, batch_size=train_bs,\n",
        "    sampler=train_sampler, drop_last=False)\n",
        "valid_loader = torch.utils.data.DataLoader(training_data, batch_size=train_bs, \n",
        "    sampler=valid_sampler, drop_last=False)\n",
        "test_loader = torch.utils.data.DataLoader(testing_data, batch_size=test_bs, \n",
        "    drop_last=False)\n"
      ],
      "execution_count": 2,
      "outputs": []
    },
    {
      "cell_type": "markdown",
      "metadata": {
        "deletable": false,
        "editable": false,
        "id": "3CQY7vi4rEYQ",
        "nbgrader": {
          "cell_type": "markdown",
          "checksum": "6f5531a49684a81df0e0f59102be6227",
          "grade": false,
          "grade_id": "cell-f9b382eeb7593ce2",
          "locked": true,
          "schema_version": 3,
          "solution": false,
          "task": false
        }
      },
      "source": [
        "### Visualize a Few Data Samples\n",
        "\n",
        "In the following cell we first peek into a random batch of images together with labels and visualize them. "
      ]
    },
    {
      "cell_type": "code",
      "metadata": {
        "colab": {
          "base_uri": "https://localhost:8080/",
          "height": 485
        },
        "deletable": false,
        "editable": false,
        "id": "3aQM8-KfrEYR",
        "nbgrader": {
          "cell_type": "code",
          "checksum": "87e6c7dfdb9d4d57ab2421fad9e63cb9",
          "grade": false,
          "grade_id": "cell-1168a8b4140174bf",
          "locked": true,
          "schema_version": 3,
          "solution": false
        },
        "outputId": "77d3ba9a-07d6-4a92-a5ad-64aaf6f899a2"
      },
      "source": [
        "import matplotlib.pyplot as plt\n",
        "%matplotlib inline\n",
        "\n",
        "## get a batch of data\n",
        "images, labels = iter(train_loader).next()\n",
        "\n",
        "\n",
        "image_dict = {0:'T-shirt/Top', 1:'Trouser', 2:'Pullover', 3:'Dress',\n",
        "              4:'Coat', 5:'Sandal', 6:'Shirt', 7:'Sneaker',\n",
        "              8:'Bag', 9:'Ankle Boot'}\n",
        "\n",
        "fig = plt.figure(figsize=(8,8))\n",
        "\n",
        "print(images.size())\n",
        "\n",
        "for i in np.arange(1, 13):\n",
        "    ax = fig.add_subplot(3,4,i, frameon=False)\n",
        "    img = images[i][0]\n",
        "    ax.set_title(image_dict[labels[i].item()])\n",
        "    plt.imshow(img, cmap='gray')\n"
      ],
      "execution_count": 3,
      "outputs": [
        {
          "output_type": "stream",
          "text": [
            "torch.Size([60, 1, 28, 28])\n"
          ],
          "name": "stdout"
        },
        {
          "output_type": "display_data",
          "data": {
            "image/png": "[encoded data removed]",
            "text/plain": [
              "<Figure size 576x576 with 12 Axes>"
            ]
          },
          "metadata": {
            "tags": [],
            "needs_background": "light"
          }
        }
      ]
    },
    {
      "cell_type": "markdown",
      "metadata": {
        "deletable": false,
        "editable": false,
        "id": "shsQOK9SrEYR",
        "nbgrader": {
          "cell_type": "markdown",
          "checksum": "6dcbe042b4711d11eafae3ec791e14b6",
          "grade": false,
          "grade_id": "cell-f48cb922457e6d1e",
          "locked": true,
          "schema_version": 3,
          "solution": false,
          "task": false
        }
      },
      "source": [
        "### Architecture\n",
        "\n",
        "We implement a Convolutional Neural Network as our model. We make use of the following layers in our model.\n",
        "- a convolution layer for extracting features.\n",
        "- batchnorm layer for normalizing the weights in the hidden layers.\n",
        "- ReLU activation function for the non-linearity between layers.\n",
        "- Finally fully connected layers in the end.\n",
        "\n",
        "#### Model:\n",
        "\n",
        "we make use of the following convolutional neural network architecture for our dataset. \n",
        "\n",
        "- convolution layer output_channels-16 kernel_size=3 stride=1 padding-1\n",
        "- batchnormalization layer\n",
        "- ReLU activation layer\n",
        "- maxpool layer kernel_size=2 stride=2\n",
        "- convolution layer output_channels-32 kernel_size=3 stride=1 padding-1\n",
        "- batchnormalization layer\n",
        "- ReLU activation layer\n",
        "- maxpool layer kernel_size=2 stride=2\n",
        "- convolution layer output_channels-64 kernel_size=5 stride=1 padding-2\n",
        "- batchnormalization layer\n",
        "- ReLU activation layer\n",
        "- maxpool layer kernel_size=2 stride=2\n",
        "- fully connected layer - number_of_classes\n",
        "\n",
        "### Build the model (30 points)\n",
        "\n",
        "- We first define a class called Model nheriting from Pytorch's nn.Module.\n",
        "- In init(constructor), we define all the layers that are used to build the model\n",
        "- Define a forward function for a sequential model that takes in images as input and returns the predictions as output.\n",
        "\n",
        "All the functions are available in the PyTorch package. Read the documentation/source code for a better understanding.\n",
        "\n",
        "- Convolutional layer: https://pytorch.org/docs/stable/nn.html#convolution-layers\n",
        "- Batchnorm layer: https://pytorch.org/docs/stable/nn.html#normalization-layers\n",
        "- Activation ReLU: https://pytorch.org/docs/stable/nn.html#non-linear-activations-weighted-sum-nonlinearity\n",
        "- Maxpooling layer: https://pytorch.org/docs/stable/nn.html#pooling-layers\n",
        "- Fully connected layer: https://pytorch.org/docs/stable/nn.html#linear-layers\n",
        "\n"
      ]
    },
    {
      "cell_type": "code",
      "metadata": {
        "deletable": false,
        "id": "BIJgXe8grEYS",
        "nbgrader": {
          "cell_type": "code",
          "checksum": "517fa5c8accc5740302af5e2cfbcc415",
          "grade": false,
          "grade_id": "network_model_soln",
          "locked": false,
          "schema_version": 3,
          "solution": true
        }
      },
      "source": [
        "import torch.nn as nn\n",
        "\n",
        "class Model(nn.Module):\n",
        "    ## init function is the constructor and we define all the layers used in our model. \n",
        "    def __init__(self, num_classes=10):\n",
        "        super(Model, self).__init__()\n",
        "        ''' \n",
        "        REST OF THE MODEL HERE\n",
        "        \n",
        "        # define a convolutional layer with 16 channels, kernel_size=3, stride=1 and padding=1\n",
        "        \n",
        "        # define a batchnormalization layer \n",
        "        \n",
        "        # define a relu layer\n",
        "        \n",
        "        # define a maxpool layer with kernel_size=2, stride=2\n",
        "        \n",
        "        # define a convolutional layer with 32 channels, kernel_size=3, stride=1 and padding=1\n",
        "        \n",
        "        # define a batchnormalization layer \n",
        "        \n",
        "        # define a relu layer\n",
        "        \n",
        "        # define a maxpool layer with kernel_size=2, stride=2\n",
        "        \n",
        "        # define a convolution layer with 64 channels, kernel_size=5, stride=1 and padding=2\n",
        "        \n",
        "        # define a batchnorm layer\n",
        "        \n",
        "        # define a relu layer\n",
        "        \n",
        "        # define a maxpool layer with kernel_size=2, stride=2\n",
        "        \n",
        "        # define a fully connected layer from resulting dimension -> number of classes\n",
        "        \n",
        "        \n",
        "        '''\n",
        "        # your code here\n",
        "        self.conv1 = nn.Conv2d(1, 16, kernel_size=3, stride=1, padding=1)\n",
        "        self.bn1 = nn.BatchNorm2d(16)\n",
        "        self.relu = nn.ReLU()\n",
        "        self.pool = nn.MaxPool2d(2, stride=2)\n",
        "        self.conv2 = nn.Conv2d(16, 32, kernel_size=3, stride=1, padding=1)\n",
        "        self.bn2 = nn.BatchNorm2d(32)\n",
        "        self.conv3 = nn.Conv2d(32, 64, kernel_size=5, stride=1, padding=2)\n",
        "        self.bn3 = nn.BatchNorm2d(64)\n",
        "        self.fc = nn.Linear(64 * 3 * 3, num_classes)\n",
        "        \n",
        "        \n",
        "    def forward(self, x):\n",
        "        # We will start with feeding the data to the first layer. \n",
        "        # We take the output x and feed it back to the next layer \n",
        "        x = self.conv1(x)\n",
        "        x = self.bn1(x)\n",
        "        x = self.relu(x)\n",
        "        x = self.pool(x)\n",
        "        x = self.conv2(x)\n",
        "        x = self.bn2(x)\n",
        "        x = self.relu(x)\n",
        "        x = self.pool(x)\n",
        "        x = self.conv3(x)\n",
        "        x = self.bn3(x)\n",
        "        x = self.relu(x)\n",
        "        x = self.pool(x)\n",
        "        x = self.flatten(x)\n",
        "        x = self.fc(x)\n",
        "        # Continue in ths manner to get the output of the final layer. \n",
        "        \n",
        "        # your code here\n",
        "        \n",
        "        \n",
        "        return x\n",
        "    \n",
        "    # Note that before the fully connected(fc) layer, the output is a feature map with size (N,C,H,W)\n",
        "    # but a fully connected layers expects a input of size (N, dimension). Therefore, before passing the output of\n",
        "    # maxpool layer to the fc layer, we must first flatten the output of previous layer to a size (N,C*H*W) \n",
        "    # and then pass it to the fully connected layer, like x = x.flatten(x)\n",
        "    # Define the flatten function below, use the x = x.view() function\n",
        "    def flatten(self, x):\n",
        "        N, C, H, W = x.size()\n",
        "        #reshape x to (N, C*H*W) \n",
        "        \n",
        "        # your code here\n",
        "        x = x.view(N, C*H*W)\n",
        "        \n",
        "        return x\n",
        "        \n",
        "        \n",
        "    "
      ],
      "execution_count": 4,
      "outputs": []
    },
    {
      "cell_type": "code",
      "metadata": {
        "deletable": false,
        "editable": false,
        "id": "prxsnKgirEYS",
        "nbgrader": {
          "cell_type": "code",
          "checksum": "e8b0566eda978f395e9851885f70d7db",
          "grade": true,
          "grade_id": "network_model_soln_test",
          "locked": true,
          "points": 30,
          "schema_version": 3,
          "solution": false
        }
      },
      "source": [
        "## Run the cell to check the implementation of your model\n",
        "# The testcase only tests the input and output dimensions of your architecture. \n",
        "# The only constraints you Model needs to satisfy are: \n",
        "# The Model object is initialized by providing num_classes as input \n",
        "# The network takes input Tensors of dimensions (B,1,28,28), where B is arbitrary batch_size, \n",
        "#    1 is the number of channels in the grayscale image and 28 is image size\n",
        "# The output of the network is Tensor of dimensions (B,10) where 10 is the num_classes\n",
        "\n",
        "model = Model(num_classes=10)\n",
        "test_input1 = torch.randn(16,1,28,28)\n",
        "out1 = model(test_input1)\n",
        "test_input2 = torch.rand(20,1,28,28)\n",
        "out2 = model(test_input2)\n",
        "\n",
        "#hidden tests follow\n"
      ],
      "execution_count": 5,
      "outputs": []
    },
    {
      "cell_type": "code",
      "metadata": {
        "id": "IvXGBtROrEYT"
      },
      "source": [
        "# Setting up a few learning parameters\n",
        "learning_rate = 1e-2\n",
        "decayRate = 0.999\n",
        "epochs = 5\n",
        "number_of_classes = 10"
      ],
      "execution_count": 6,
      "outputs": []
    },
    {
      "cell_type": "markdown",
      "metadata": {
        "id": "XjHis8E-rEYT"
      },
      "source": [
        "### Initialize the CNN Model (10 points)\n",
        "\n",
        "Define a loss criterion, In this assignment we will use cross-entropy loss between the predictions and ground truth to estimate the loss. \n",
        "- CrossEntropyLoss - https://pytorch.org/docs/stable/nn.html#crossentropyloss\n",
        "\n",
        "We also define a optimization strategy to update the weights. In this assignment we use the most commonly used Adam optimizer from the PyTorch package.\n",
        "\n",
        "- Adam - https://pytorch.org/docs/stable/optim.html#algorithms "
      ]
    },
    {
      "cell_type": "code",
      "metadata": {
        "colab": {
          "base_uri": "https://localhost:8080/"
        },
        "deletable": false,
        "id": "jqDuph8prEYT",
        "nbgrader": {
          "cell_type": "code",
          "checksum": "dff0b3cd47411f8bf3dc16268a3a7c6e",
          "grade": false,
          "grade_id": "optim_soln",
          "locked": false,
          "schema_version": 3,
          "solution": true
        },
        "outputId": "2c6499de-4b33-4b7a-bb5e-1b4386490a91"
      },
      "source": [
        "## First we will define an instance of the model to train\n",
        "model = Model(num_classes=number_of_classes)\n",
        "print(model)\n",
        "\n",
        "#Move the model to the gpu if is_cuda\n",
        "if is_cuda:\n",
        "  model = model.cuda()\n",
        "\n",
        "# define the loss 'criterion' as nn.CrossEntropyLoss() object\n",
        "criterion = nn.CrossEntropyLoss()\n",
        "# your code here\n",
        "\n",
        "\n",
        "# Initialize the Adam optimizer for the model.parameters() using the learning_rate\n",
        "optimizer = torch.optim.Adam(model.parameters(), learning_rate)\n",
        "# your code here\n",
        "\n",
        "\n",
        "# This is the learning rate scheduler. It decreases the learning rate as we approach convergence\n",
        "my_lr_scheduler = torch.optim.lr_scheduler.ExponentialLR(optimizer=optimizer, gamma=decayRate)\n",
        "\n",
        "# optimizer = None"
      ],
      "execution_count": 7,
      "outputs": [
        {
          "output_type": "stream",
          "text": [
            "Model(\n",
            "  (conv1): Conv2d(1, 16, kernel_size=(3, 3), stride=(1, 1), padding=(1, 1))\n",
            "  (bn1): BatchNorm2d(16, eps=1e-05, momentum=0.1, affine=True, track_running_stats=True)\n",
            "  (relu): ReLU()\n",
            "  (pool): MaxPool2d(kernel_size=2, stride=2, padding=0, dilation=1, ceil_mode=False)\n",
            "  (conv2): Conv2d(16, 32, kernel_size=(3, 3), stride=(1, 1), padding=(1, 1))\n",
            "  (bn2): BatchNorm2d(32, eps=1e-05, momentum=0.1, affine=True, track_running_stats=True)\n",
            "  (conv3): Conv2d(32, 64, kernel_size=(5, 5), stride=(1, 1), padding=(2, 2))\n",
            "  (bn3): BatchNorm2d(64, eps=1e-05, momentum=0.1, affine=True, track_running_stats=True)\n",
            "  (fc): Linear(in_features=576, out_features=10, bias=True)\n",
            ")\n"
          ],
          "name": "stdout"
        }
      ]
    },
    {
      "cell_type": "code",
      "metadata": {
        "deletable": false,
        "editable": false,
        "id": "mklkuII0rEYT",
        "nbgrader": {
          "cell_type": "code",
          "checksum": "7c3ddc62849e994cda0149bd7085e6ee",
          "grade": true,
          "grade_id": "optim_soln_test",
          "locked": true,
          "points": 10,
          "schema_version": 3,
          "solution": false
        }
      },
      "source": [
        "out = torch.FloatTensor([[0.1,0.8,0.05,0.05]])\n",
        "true = torch.LongTensor([1])\n",
        "assert criterion(out, true), 0.8925"
      ],
      "execution_count": 8,
      "outputs": []
    },
    {
      "cell_type": "markdown",
      "metadata": {
        "deletable": false,
        "editable": false,
        "id": "wqD65PCSrEYU",
        "nbgrader": {
          "cell_type": "markdown",
          "checksum": "4e52cd64b766001f7527c8f64e0a0870",
          "grade": false,
          "grade_id": "cell-1e2e5baffbc2c303",
          "locked": true,
          "schema_version": 3,
          "solution": false
        }
      },
      "source": [
        "### Training the Model (30 points)\n",
        "\n",
        "The training loop is setup in the following way:\n",
        "\n",
        "For every batch in the defined number of epochs\n",
        "\n",
        "- Move the images and labels to the gpu by checking is_cuda\n",
        "- Extract output by passing images through the model \n",
        "- pass the output and ground truth to the loss criterion for batch loss\n",
        "- clear the gradients \n",
        "- backpropagate (compute gradients w.r.t the parameters) using backward() \n",
        "- update the parameters with a single optimization step\n",
        "- update the training loss for plots\n",
        "\n",
        "repeat"
      ]
    },
    {
      "cell_type": "code",
      "metadata": {
        "deletable": false,
        "id": "t3CtvtqQrEYU",
        "nbgrader": {
          "cell_type": "code",
          "checksum": "06673cae7788c67677e8deda3b73c167",
          "grade": false,
          "grade_id": "train_model_soln",
          "locked": false,
          "schema_version": 3,
          "solution": true
        }
      },
      "source": [
        "## training loop \n",
        "\n",
        "## Number of epochs the model runs\n",
        "\n",
        "def train_model(epochs=25, validate=True):\n",
        "    '''\n",
        "    A function to train the model on the dataset and returns the trained model, training loss and\n",
        "    validation loss for every epoch.\n",
        "    \n",
        "    Inputs:\n",
        "        epochs: Number of times the model should be trained on the whole data.\n",
        "        validate: A boolean parameter that validates on validation data.\n",
        "        \n",
        "    Outputs:\n",
        "        model: The model trained for specified number of epochs\n",
        "        training loss: A list of training losses computed for every epoch.\n",
        "        validation loss: A list of validation losses computed for every epoch.\n",
        "    \n",
        "    '''\n",
        "    train_loss = []\n",
        "    val_loss = []\n",
        "\n",
        "    for epoch in range(epochs):\n",
        "        # Iterate through the batches in the data\n",
        "        training_loss = 0.0\n",
        "        validation_loss = 0.0\n",
        "\n",
        "        model.train()\n",
        "        itr = 0\n",
        "        for (images,labels)  in train_loader:\n",
        "            # your code here\n",
        "            \n",
        "            # Move the images and labels to the gpu by checking is_cuda\n",
        "            if is_cuda:\n",
        "                  images = images.cuda()\n",
        "                  labels = labels.cuda()\n",
        "            # Extract outputs by passing images through the model \n",
        "            outputs = model.forward(images)\n",
        "            # estimate loss using criterion(.) with 'outputs' and 'labels'\n",
        "            loss = criterion(outputs, labels)\n",
        "            # clear the gradients with .zero_grad()\n",
        "            optimizer.zero_grad()\n",
        "            # Estimate gradients using .backward()\n",
        "            loss.backward()\n",
        "            # update model with .step()\n",
        "            optimizer.step()\n",
        "            # update learning_rate with with a .step using my_lr_scheduler\n",
        "            learning_rate = my_lr_scheduler.step()\n",
        "            # add loss to training_loss\n",
        "            training_loss += loss\n",
        "            \n",
        "            if itr%100 == 0:\n",
        "                print('Epoch %d/%d, itr = %d, Train Loss = %.3f, LR = %.3E'\\\n",
        "                      %(epoch, epochs, itr, loss.item(),optimizer.param_groups[0]['lr']))\n",
        "            itr += 1\n",
        "        train_loss.append(training_loss/len(train_loader))\n",
        "        print('------------------------------------------------')\n",
        "        \n",
        "        # During validation we do not update gradients. We set model to eval()\n",
        "        # Move images and labels to gpu if is_cuda\n",
        "        # get 'outputs' using model and images\n",
        "        # estimate loss using criterion(.) with 'outputs' and 'labels'\n",
        "        # add loss to 'validation_loss'\n",
        "        if validate:\n",
        "            model.eval()\n",
        "            with torch.no_grad():\n",
        "                itr = 0\n",
        "                for (images,labels)  in valid_loader:\n",
        "                    # your code here\n",
        "                    if is_cuda:\n",
        "                      images = images.cuda()\n",
        "                      labels = labels.cuda()\n",
        "                    outputs = model.forward(images)\n",
        "                    loss = criterion(outputs, labels)\n",
        "                    validation_loss += loss\n",
        "                    \n",
        "                    if itr%100 == 0:\n",
        "                        print('Epoch %d/%d, itr = %d, Val Loss = %.3f, LR = %.3E'\\\n",
        "                              %(epoch, epochs, itr, loss.item(),optimizer.param_groups[0]['lr']))\n",
        "                    itr += 1\n",
        "                val_loss.append(validation_loss/len(valid_loader))\n",
        "                print('################################################')\n",
        "                \n",
        "    return model, train_loss, val_loss\n",
        "                "
      ],
      "execution_count": 9,
      "outputs": []
    },
    {
      "cell_type": "code",
      "metadata": {
        "colab": {
          "base_uri": "https://localhost:8080/"
        },
        "deletable": false,
        "editable": false,
        "id": "FP0Z9aPyrEYU",
        "nbgrader": {
          "cell_type": "code",
          "checksum": "9850cf853a8d0e7a84387bbb72f8c10f",
          "grade": false,
          "grade_id": "cell-3ef122427f827977",
          "locked": true,
          "schema_version": 3,
          "solution": false
        },
        "outputId": "f5861585-cc1d-450e-daa0-5eac42354874"
      },
      "source": [
        "start = time.time()\n",
        "trained_model, train_loss, val_loss = train_model(epochs, validate=True)\n",
        "end = time.time()\n",
        "print('Time to train in seconds ',(end - start))"
      ],
      "execution_count": 10,
      "outputs": [
        {
          "output_type": "stream",
          "text": [
            "Epoch 0/5, itr = 0, Train Loss = 2.486, LR = 9.990E-03\n",
            "Epoch 0/5, itr = 100, Train Loss = 0.822, LR = 9.039E-03\n",
            "Epoch 0/5, itr = 200, Train Loss = 0.461, LR = 8.178E-03\n",
            "Epoch 0/5, itr = 300, Train Loss = 0.298, LR = 7.400E-03\n",
            "Epoch 0/5, itr = 400, Train Loss = 0.399, LR = 6.695E-03\n",
            "Epoch 0/5, itr = 500, Train Loss = 0.359, LR = 6.058E-03\n",
            "Epoch 0/5, itr = 600, Train Loss = 0.292, LR = 5.481E-03\n",
            "Epoch 0/5, itr = 700, Train Loss = 0.409, LR = 4.959E-03\n",
            "------------------------------------------------\n",
            "Epoch 0/5, itr = 0, Val Loss = 0.291, LR = 4.491E-03\n",
            "Epoch 0/5, itr = 100, Val Loss = 0.188, LR = 4.491E-03\n",
            "################################################\n",
            "Epoch 1/5, itr = 0, Train Loss = 0.446, LR = 4.487E-03\n",
            "Epoch 1/5, itr = 100, Train Loss = 0.352, LR = 4.060E-03\n",
            "Epoch 1/5, itr = 200, Train Loss = 0.372, LR = 3.673E-03\n",
            "Epoch 1/5, itr = 300, Train Loss = 0.256, LR = 3.324E-03\n",
            "Epoch 1/5, itr = 400, Train Loss = 0.291, LR = 3.007E-03\n",
            "Epoch 1/5, itr = 500, Train Loss = 0.217, LR = 2.721E-03\n",
            "Epoch 1/5, itr = 600, Train Loss = 0.410, LR = 2.462E-03\n",
            "Epoch 1/5, itr = 700, Train Loss = 0.169, LR = 2.227E-03\n",
            "------------------------------------------------\n",
            "Epoch 1/5, itr = 0, Val Loss = 0.266, LR = 2.017E-03\n",
            "Epoch 1/5, itr = 100, Val Loss = 0.177, LR = 2.017E-03\n",
            "################################################\n",
            "Epoch 2/5, itr = 0, Train Loss = 0.150, LR = 2.015E-03\n",
            "Epoch 2/5, itr = 100, Train Loss = 0.166, LR = 1.823E-03\n",
            "Epoch 2/5, itr = 200, Train Loss = 0.146, LR = 1.650E-03\n",
            "Epoch 2/5, itr = 300, Train Loss = 0.270, LR = 1.493E-03\n",
            "Epoch 2/5, itr = 400, Train Loss = 0.125, LR = 1.351E-03\n",
            "Epoch 2/5, itr = 500, Train Loss = 0.298, LR = 1.222E-03\n",
            "Epoch 2/5, itr = 600, Train Loss = 0.160, LR = 1.106E-03\n",
            "Epoch 2/5, itr = 700, Train Loss = 0.303, LR = 1.000E-03\n",
            "------------------------------------------------\n",
            "Epoch 2/5, itr = 0, Val Loss = 0.117, LR = 9.061E-04\n",
            "Epoch 2/5, itr = 100, Val Loss = 0.268, LR = 9.061E-04\n",
            "################################################\n",
            "Epoch 3/5, itr = 0, Train Loss = 0.127, LR = 9.052E-04\n",
            "Epoch 3/5, itr = 100, Train Loss = 0.118, LR = 8.190E-04\n",
            "Epoch 3/5, itr = 200, Train Loss = 0.139, LR = 7.410E-04\n",
            "Epoch 3/5, itr = 300, Train Loss = 0.165, LR = 6.705E-04\n",
            "Epoch 3/5, itr = 400, Train Loss = 0.260, LR = 6.066E-04\n",
            "Epoch 3/5, itr = 500, Train Loss = 0.133, LR = 5.489E-04\n",
            "Epoch 3/5, itr = 600, Train Loss = 0.197, LR = 4.966E-04\n",
            "Epoch 3/5, itr = 700, Train Loss = 0.137, LR = 4.493E-04\n",
            "------------------------------------------------\n",
            "Epoch 3/5, itr = 0, Val Loss = 0.121, LR = 4.070E-04\n",
            "Epoch 3/5, itr = 100, Val Loss = 0.290, LR = 4.070E-04\n",
            "################################################\n",
            "Epoch 4/5, itr = 0, Train Loss = 0.084, LR = 4.066E-04\n",
            "Epoch 4/5, itr = 100, Train Loss = 0.100, LR = 3.679E-04\n",
            "Epoch 4/5, itr = 200, Train Loss = 0.212, LR = 3.328E-04\n",
            "Epoch 4/5, itr = 300, Train Loss = 0.319, LR = 3.011E-04\n",
            "Epoch 4/5, itr = 400, Train Loss = 0.079, LR = 2.725E-04\n",
            "Epoch 4/5, itr = 500, Train Loss = 0.074, LR = 2.465E-04\n",
            "Epoch 4/5, itr = 600, Train Loss = 0.126, LR = 2.231E-04\n",
            "Epoch 4/5, itr = 700, Train Loss = 0.101, LR = 2.018E-04\n",
            "------------------------------------------------\n",
            "Epoch 4/5, itr = 0, Val Loss = 0.124, LR = 1.828E-04\n",
            "Epoch 4/5, itr = 100, Val Loss = 0.227, LR = 1.828E-04\n",
            "################################################\n",
            "Time to train in seconds  51.0800986289978\n"
          ],
          "name": "stdout"
        }
      ]
    },
    {
      "cell_type": "code",
      "metadata": {
        "deletable": false,
        "editable": false,
        "id": "6wKIxmkHrEYU",
        "nbgrader": {
          "cell_type": "code",
          "checksum": "55d34f1ee711a47be6689c5ecdf6a9af",
          "grade": true,
          "grade_id": "train_model_soln_test",
          "locked": true,
          "points": 30,
          "schema_version": 3,
          "solution": false
        }
      },
      "source": [
        "# Test cases to ensure loss is reducing every epoch\n",
        "# hidden test cases follow "
      ],
      "execution_count": 12,
      "outputs": []
    },
    {
      "cell_type": "code",
      "metadata": {
        "colab": {
          "base_uri": "https://localhost:8080/",
          "height": 279
        },
        "deletable": false,
        "editable": false,
        "id": "Z5Yy9QCurEYV",
        "nbgrader": {
          "cell_type": "code",
          "checksum": "8e12aa54daa529184ce87590889347cc",
          "grade": false,
          "grade_id": "cell-35244d9978da3c81",
          "locked": true,
          "schema_version": 3,
          "solution": false
        },
        "outputId": "8befa3b4-00e5-4de5-c34a-9a47dec54b4b"
      },
      "source": [
        "# Plot the losses\n",
        "it = np.arange(epochs)\n",
        "plt.plot(it, train_loss, label='training loss')\n",
        "plt.plot(it, val_loss, label='validation loss')\n",
        "plt.xlabel('epochs')\n",
        "plt.ylabel('losses')\n",
        "plt.legend(loc='upper right')\n",
        "plt.show()"
      ],
      "execution_count": 19,
      "outputs": [
        {
          "output_type": "display_data",
          "data": {
            "image/png": "[encoded data removed]",
            "text/plain": [
              "<Figure size 432x288 with 1 Axes>"
            ]
          },
          "metadata": {
            "tags": [],
            "needs_background": "light"
          }
        }
      ]
    },
    {
      "cell_type": "markdown",
      "metadata": {
        "deletable": false,
        "editable": false,
        "id": "nH_GcUV3rEYV",
        "nbgrader": {
          "cell_type": "markdown",
          "checksum": "bfa73d763cb1ddbd42d8ff1548d42e1c",
          "grade": false,
          "grade_id": "cell-fe85b51930497822",
          "locked": true,
          "schema_version": 3,
          "solution": false
        }
      },
      "source": [
        "### Testing the Classsification (30 points)\n",
        "\n",
        "In the testing loop we don't update the weights. The trained model is tested for all the samples in test data to compute the accuracy and observe how well the model is generalizing to the unseen data. \n",
        "\n",
        "The testing loop is setup in the following way: \n",
        "\n",
        "For every batch in the testing data\n",
        "\n",
        "- Put the model in the evaluation mode and turn off the gradients\n",
        "- Move the images and labels to the device available\n",
        "- extract output from the model for the input\n",
        "- compute the prediction class by choosing the one with maximum probability in the predictions.\n",
        "- Compare the prediction classes with true classes.\n",
        "- calculate accuracy\n",
        "- update test_loss for plots\n",
        "\n",
        "repeat\n"
      ]
    },
    {
      "cell_type": "code",
      "metadata": {
        "deletable": false,
        "id": "VwErQNu3rEYV",
        "nbgrader": {
          "cell_type": "code",
          "checksum": "6f32a3ca4f639cbfd8e5c64aa8775d11",
          "grade": false,
          "grade_id": "test_model_soln",
          "locked": false,
          "schema_version": 3,
          "solution": true
        }
      },
      "source": [
        "## Testing Loop\n",
        "\n",
        "def evaluate_model(model, loader):\n",
        "    '''\n",
        "    A function to test the trained model on the dataset and print the accuracy on the testset.\n",
        "    \n",
        "    Inputs:\n",
        "        model: Trained model\n",
        "        loader: train_loader or test_loader\n",
        "        \n",
        "    outputs:\n",
        "        accuracy. returns the accuracy of prediction\n",
        "    '''\n",
        "    model.eval()\n",
        "    with torch.no_grad():\n",
        "        correct = 0\n",
        "        total_samples = 0\n",
        "        for images, labels in loader:\n",
        "            ## Move the images and labels to gpu if is_cuda \n",
        "            ## Get the output of the model by passing images as input to the model\n",
        "            ## estimate the index of the highest output in each row, that is the predicted label \n",
        "            ## There is no need for softmax if the goal is to merely identify the predicted category\n",
        "            ## compare predictions with ground truth for number of correct samples\n",
        "            # your code here\n",
        "            if is_cuda:\n",
        "                  images = images.cuda()\n",
        "                  labels = labels.cuda()\n",
        "            outputs = model.forward(images)\n",
        "            yPred = torch.argmax(outputs,dim=1).tolist()\n",
        "            g_truth = labels.tolist()\n",
        "            for i in range(len(yPred)):\n",
        "              if yPred[i] == g_truth[i]:\n",
        "                  correct = correct + 1;\n",
        "            total_samples += labels.size(0)\n",
        "        \n",
        "        accuracy = correct/total_samples*100\n",
        "        print(\"Total Accuracy on the Input set: {} %\".format(accuracy))\n",
        "        return accuracy"
      ],
      "execution_count": 22,
      "outputs": []
    },
    {
      "cell_type": "code",
      "metadata": {
        "deletable": false,
        "editable": false,
        "nbgrader": {
          "cell_type": "code",
          "checksum": "d0809b359b485a5d3c607c767fd2648e",
          "grade": false,
          "grade_id": "cell-99bb2d4e6a095086",
          "locked": true,
          "schema_version": 3,
          "solution": false,
          "task": false
        },
        "colab": {
          "base_uri": "https://localhost:8080/"
        },
        "id": "vt4dIDkJGgYF",
        "outputId": "946f8bd7-ee79-4da4-b056-db72873d4e71"
      },
      "source": [
        "# With these settings, obtained 95% train and 91% test accuracy\n",
        "tr_acc = evaluate_model(model, train_loader)\n",
        "ts_acc = evaluate_model(model, test_loader)\n",
        "print('Train Accuracy = %.3f'%(tr_acc))\n",
        "print('Test Accuracy = %.3f'%(ts_acc))"
      ],
      "execution_count": 23,
      "outputs": [
        {
          "output_type": "stream",
          "text": [
            "Total Accuracy on the Input set: 95.65208333333334 %\n",
            "Total Accuracy on the Input set: 91.83 %\n",
            "Train Accuracy = 95.652\n",
            "Test Accuracy = 91.830\n"
          ],
          "name": "stdout"
        }
      ]
    },
    {
      "cell_type": "code",
      "metadata": {
        "deletable": false,
        "editable": false,
        "id": "TrcBxwqCrEYV",
        "nbgrader": {
          "cell_type": "code",
          "checksum": "ab282ae6551e71d844f7281b7ee39aff",
          "grade": true,
          "grade_id": "test_model_soln_test",
          "locked": true,
          "points": 30,
          "schema_version": 3,
          "solution": false
        }
      },
      "source": [
        "# test cases for test accuracy > 90%\n",
        "# hidden tests follow "
      ],
      "execution_count": 16,
      "outputs": []
    },
    {
      "cell_type": "code",
      "metadata": {
        "colab": {
          "base_uri": "https://localhost:8080/",
          "height": 879
        },
        "deletable": false,
        "editable": false,
        "id": "9_MkVg6ErEYW",
        "nbgrader": {
          "cell_type": "code",
          "checksum": "b4ece53bc914981efc7566f454d2c571",
          "grade": false,
          "grade_id": "cell-06766329c9d4e874",
          "locked": true,
          "schema_version": 3,
          "solution": false
        },
        "outputId": "df3b1f73-1130-400a-9215-49fcf1c18d8f"
      },
      "source": [
        "## Visualize the test samples with predicted output and true output\n",
        "images, labels = iter(test_loader).next()\n",
        "# images = images.numpy()\n",
        "if is_cuda:\n",
        "  images = images.cuda()\n",
        "  labels = labels.cuda()\n",
        "\n",
        "out = model(images)\n",
        "_, preds = torch.max(out, dim=1)\n",
        "\n",
        "images = images.to('cpu').numpy()\n",
        "\n",
        "fig = plt.figure(figsize=(15,15))\n",
        "for i in np.arange(1, 13):\n",
        "    ax = fig.add_subplot(4, 3, i)\n",
        "    plt.imshow(images[i][0])\n",
        "    ax.set_title(\"Predicted: {}/ Actual: {}\".format(image_dict[preds[i].item()], image_dict[labels[i].item()]), \n",
        "                color=('green' if preds[i] == labels[i] else 'red'))"
      ],
      "execution_count": 24,
      "outputs": [
        {
          "output_type": "display_data",
          "data": {
            "image/png": "[encoded data removed]",
            "text/plain": [
              "<Figure size 1080x1080 with 12 Axes>"
            ]
          },
          "metadata": {
            "tags": [],
            "needs_background": "light"
          }
        }
      ]
    },
    {
      "cell_type": "markdown",
      "metadata": {
        "deletable": false,
        "editable": false,
        "nbgrader": {
          "cell_type": "markdown",
          "checksum": "9fa5e145703195250a6d2a9f069df701",
          "grade": false,
          "grade_id": "cell-76173993323fbf3e",
          "locked": true,
          "schema_version": 3,
          "solution": false,
          "task": false
        },
        "id": "fJrbJKTeGgYG"
      },
      "source": [
        "#### The assignment is graded both manually and using auto-graded testcases."
      ]
    }
  ]
}