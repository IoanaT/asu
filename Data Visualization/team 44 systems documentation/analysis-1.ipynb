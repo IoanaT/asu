{
 "cells": [
  {
   "cell_type": "code",
   "execution_count": 1,
   "metadata": {},
   "outputs": [
    {
     "name": "stderr",
     "output_type": "stream",
     "text": [
      "C:\\ProgramData\\Anaconda3\\lib\\site-packages\\sklearn\\externals\\six.py:31: DeprecationWarning: The module is deprecated in version 0.21 and will be removed in version 0.23 since we've dropped support for Python 2.7. Please rely on the official version of six (https://pypi.org/project/six/).\n",
      "  \"(https://pypi.org/project/six/).\", DeprecationWarning)\n"
     ]
    }
   ],
   "source": [
    "import numpy as np\n",
    "import pandas as pd\n",
    "import matplotlib.pyplot as plt\n",
    "import seaborn as sns\n",
    "from sklearn import ensemble\n",
    "from sklearn.model_selection import GridSearchCV\n",
    "from sklearn.model_selection import cross_val_score\n",
    "from statsmodels.graphics.mosaicplot import mosaic\n",
    "from sklearn.externals.six import StringIO  \n",
    "from sklearn import preprocessing\n",
    "from sklearn.metrics import balanced_accuracy_score\n",
    "from sklearn.metrics import accuracy_score\n",
    "from sklearn.tree import DecisionTreeClassifier\n",
    "from sklearn.tree import plot_tree\n",
    "\n",
    "pd.options.display.max_rows = 4000\n",
    "plt.style.use('ggplot')\n",
    "%matplotlib inline"
   ]
  },
  {
   "cell_type": "markdown",
   "metadata": {},
   "source": [
    "<b>Read Data</b>"
   ]
  },
  {
   "cell_type": "code",
   "execution_count": 2,
   "metadata": {},
   "outputs": [],
   "source": [
    "train_data_path='C:/Users/karim.afifi/Desktop/ASU/Data Visualization (CSE578)/Projects/adult.csv'\n",
    "test_data_path='C:/Users/karim.afifi/Desktop/ASU/Data Visualization (CSE578)/Projects/adult_test.csv'"
   ]
  },
  {
   "cell_type": "code",
   "execution_count": 3,
   "metadata": {},
   "outputs": [],
   "source": [
    "train_data=pd.read_csv(train_data_path, na_values='?')\n",
    "test_data=pd.read_csv(test_data_path, na_values='?')"
   ]
  },
  {
   "cell_type": "code",
   "execution_count": 4,
   "metadata": {},
   "outputs": [
    {
     "data": {
      "text/plain": [
       "(32561, 15)"
      ]
     },
     "execution_count": 4,
     "metadata": {},
     "output_type": "execute_result"
    }
   ],
   "source": [
    "train_data.shape"
   ]
  },
  {
   "cell_type": "code",
   "execution_count": 5,
   "metadata": {},
   "outputs": [
    {
     "data": {
      "text/plain": [
       "age                int64\n",
       "workclass         object\n",
       "fnlwgt             int64\n",
       "education         object\n",
       "education-num      int64\n",
       "marital-status    object\n",
       "occupation        object\n",
       "relationship      object\n",
       "race              object\n",
       "sex               object\n",
       "capital-gain       int64\n",
       "capital-loss       int64\n",
       "hours-per-week     int64\n",
       "native-country    object\n",
       "Income            object\n",
       "dtype: object"
      ]
     },
     "execution_count": 5,
     "metadata": {},
     "output_type": "execute_result"
    }
   ],
   "source": [
    "train_data.dtypes"
   ]
  },
  {
   "cell_type": "code",
   "execution_count": 6,
   "metadata": {},
   "outputs": [],
   "source": [
    "train_data['education-num']=train_data['education-num'].astype('str')\n",
    "test_data['education-num']=test_data['education-num'].astype('str')"
   ]
  },
  {
   "cell_type": "code",
   "execution_count": 7,
   "metadata": {},
   "outputs": [
    {
     "data": {
      "text/plain": [
       "age                  0\n",
       "workclass         1836\n",
       "fnlwgt               0\n",
       "education            0\n",
       "education-num        0\n",
       "marital-status       0\n",
       "occupation        1843\n",
       "relationship         0\n",
       "race                 0\n",
       "sex                  0\n",
       "capital-gain         0\n",
       "capital-loss         0\n",
       "hours-per-week       0\n",
       "native-country     583\n",
       "Income               0\n",
       "dtype: int64"
      ]
     },
     "execution_count": 7,
     "metadata": {},
     "output_type": "execute_result"
    }
   ],
   "source": [
    "train_data.isnull().sum()"
   ]
  },
  {
   "cell_type": "markdown",
   "metadata": {},
   "source": [
    "<b>Univariate Analysis</b>"
   ]
  },
  {
   "cell_type": "code",
   "execution_count": 8,
   "metadata": {},
   "outputs": [
    {
     "data": {
      "text/plain": [
       "count    32561.000000\n",
       "mean        38.581647\n",
       "std         13.640433\n",
       "min         17.000000\n",
       "25%         28.000000\n",
       "50%         37.000000\n",
       "75%         48.000000\n",
       "max         90.000000\n",
       "Name: age, dtype: float64"
      ]
     },
     "execution_count": 8,
     "metadata": {},
     "output_type": "execute_result"
    }
   ],
   "source": [
    "train_data['age'].describe()"
   ]
  },
  {
   "cell_type": "code",
   "execution_count": 9,
   "metadata": {},
   "outputs": [
    {
     "data": {
      "text/plain": [
       "<matplotlib.axes._subplots.AxesSubplot at 0x187e9258088>"
      ]
     },
     "execution_count": 9,
     "metadata": {},
     "output_type": "execute_result"
    },
    {
     "data": {
      "image/png": "[encoded data removed]",
      "text/plain": [
       "<Figure size 432x288 with 1 Axes>"
      ]
     },
     "metadata": {
      "needs_background": "light"
     },
     "output_type": "display_data"
    }
   ],
   "source": [
    "sns.distplot(train_data['age'])"
   ]
  },
  {
   "cell_type": "code",
   "execution_count": 10,
   "metadata": {},
   "outputs": [
    {
     "data": {
      "text/plain": [
       "<matplotlib.axes._subplots.AxesSubplot at 0x187f53a1748>"
      ]
     },
     "execution_count": 10,
     "metadata": {},
     "output_type": "execute_result"
    },
    {
     "data": {
      "image/png": "[encoded data removed]",
      "text/plain": [
       "<Figure size 432x288 with 1 Axes>"
      ]
     },
     "metadata": {
      "needs_background": "light"
     },
     "output_type": "display_data"
    }
   ],
   "source": [
    "sns.boxplot(train_data['age'])"
   ]
  },
  {
   "cell_type": "markdown",
   "metadata": {},
   "source": [
    "<b>Data is right skewed towards the younger age. Minimum age for individuals is 17, maximum age is 20 and 50% of individuals are less than 37 years</b>"
   ]
  },
  {
   "cell_type": "code",
   "execution_count": 11,
   "metadata": {},
   "outputs": [
    {
     "data": {
      "text/plain": [
       "Private             22696\n",
       "Self-emp-not-inc     2541\n",
       "Local-gov            2093\n",
       "State-gov            1298\n",
       "Self-emp-inc         1116\n",
       "Federal-gov           960\n",
       "Without-pay            14\n",
       "Never-worked            7\n",
       "Name: workclass, dtype: int64"
      ]
     },
     "execution_count": 11,
     "metadata": {},
     "output_type": "execute_result"
    }
   ],
   "source": [
    "train_data['workclass'].value_counts()"
   ]
  },
  {
   "cell_type": "code",
   "execution_count": 12,
   "metadata": {},
   "outputs": [
    {
     "data": {
      "text/plain": [
       "Private             73.868186\n",
       "Self-emp-not-inc     8.270138\n",
       "Local-gov            6.812042\n",
       "State-gov            4.224573\n",
       "Self-emp-inc         3.632221\n",
       "Federal-gov          3.124491\n",
       "Without-pay          0.045566\n",
       "Never-worked         0.022783\n",
       "Name: workclass, dtype: float64"
      ]
     },
     "execution_count": 12,
     "metadata": {},
     "output_type": "execute_result"
    }
   ],
   "source": [
    "(train_data['workclass'].value_counts()/train_data['workclass'].value_counts().sum())*100"
   ]
  },
  {
   "cell_type": "code",
   "execution_count": 13,
   "metadata": {},
   "outputs": [
    {
     "data": {
      "text/plain": [
       "<matplotlib.axes._subplots.AxesSubplot at 0x187f55ccc48>"
      ]
     },
     "execution_count": 13,
     "metadata": {},
     "output_type": "execute_result"
    },
    {
     "data": {
      "image/png": "[encoded data removed]",
      "text/plain": [
       "<Figure size 432x288 with 1 Axes>"
      ]
     },
     "metadata": {
      "needs_background": "light"
     },
     "output_type": "display_data"
    }
   ],
   "source": [
    "train_data['workclass'].value_counts().plot.bar()"
   ]
  },
  {
   "cell_type": "markdown",
   "metadata": {},
   "source": [
    "<b>Most of the individuals are private work class with a wide margin</b>"
   ]
  },
  {
   "cell_type": "code",
   "execution_count": 14,
   "metadata": {},
   "outputs": [
    {
     "data": {
      "text/plain": [
       "count      32561\n",
       "mean      189778\n",
       "std       105549\n",
       "min        12285\n",
       "25%       117827\n",
       "50%       178356\n",
       "75%       237051\n",
       "max      1484705\n",
       "Name: fnlwgt, dtype: int32"
      ]
     },
     "execution_count": 14,
     "metadata": {},
     "output_type": "execute_result"
    }
   ],
   "source": [
    "train_data['fnlwgt'].describe().astype(int)"
   ]
  },
  {
   "cell_type": "code",
   "execution_count": 15,
   "metadata": {},
   "outputs": [
    {
     "data": {
      "text/plain": [
       "<matplotlib.axes._subplots.AxesSubplot at 0x187f5694f88>"
      ]
     },
     "execution_count": 15,
     "metadata": {},
     "output_type": "execute_result"
    },
    {
     "data": {
      "image/png": "[encoded data removed]",
      "text/plain": [
       "<Figure size 432x288 with 1 Axes>"
      ]
     },
     "metadata": {
      "needs_background": "light"
     },
     "output_type": "display_data"
    }
   ],
   "source": [
    "sns.distplot(train_data['fnlwgt'])"
   ]
  },
  {
   "cell_type": "code",
   "execution_count": 16,
   "metadata": {},
   "outputs": [
    {
     "data": {
      "text/plain": [
       "<matplotlib.axes._subplots.AxesSubplot at 0x187f57afb88>"
      ]
     },
     "execution_count": 16,
     "metadata": {},
     "output_type": "execute_result"
    },
    {
     "data": {
      "image/png": "[encoded data removed]",
      "text/plain": [
       "<Figure size 432x288 with 1 Axes>"
      ]
     },
     "metadata": {
      "needs_background": "light"
     },
     "output_type": "display_data"
    }
   ],
   "source": [
    "sns.boxplot(train_data['fnlwgt'])"
   ]
  },
  {
   "cell_type": "code",
   "execution_count": 17,
   "metadata": {},
   "outputs": [
    {
     "data": {
      "text/plain": [
       "HS-grad         10501\n",
       "Some-college     7291\n",
       "Bachelors        5355\n",
       "Masters          1723\n",
       "Assoc-voc        1382\n",
       "11th             1175\n",
       "Assoc-acdm       1067\n",
       "10th              933\n",
       "7th-8th           646\n",
       "Prof-school       576\n",
       "9th               514\n",
       "12th              433\n",
       "Doctorate         413\n",
       "5th-6th           333\n",
       "1st-4th           168\n",
       "Preschool          51\n",
       "Name: education, dtype: int64"
      ]
     },
     "execution_count": 17,
     "metadata": {},
     "output_type": "execute_result"
    }
   ],
   "source": [
    "train_data['education'].value_counts()"
   ]
  },
  {
   "cell_type": "code",
   "execution_count": 18,
   "metadata": {},
   "outputs": [
    {
     "data": {
      "text/plain": [
       "HS-grad         32.250238\n",
       "Some-college    22.391818\n",
       "Bachelors       16.446055\n",
       "Masters          5.291607\n",
       "Assoc-voc        4.244341\n",
       "11th             3.608612\n",
       "Assoc-acdm       3.276926\n",
       "10th             2.865391\n",
       "7th-8th          1.983969\n",
       "Prof-school      1.768987\n",
       "9th              1.578576\n",
       "12th             1.329812\n",
       "Doctorate        1.268389\n",
       "5th-6th          1.022696\n",
       "1st-4th          0.515955\n",
       "Preschool        0.156629\n",
       "Name: education, dtype: float64"
      ]
     },
     "execution_count": 18,
     "metadata": {},
     "output_type": "execute_result"
    }
   ],
   "source": [
    "(train_data['education'].value_counts()/train_data['education'].value_counts().sum())*100"
   ]
  },
  {
   "cell_type": "code",
   "execution_count": 19,
   "metadata": {},
   "outputs": [
    {
     "data": {
      "text/plain": [
       "<matplotlib.axes._subplots.AxesSubplot at 0x187f56a1cc8>"
      ]
     },
     "execution_count": 19,
     "metadata": {},
     "output_type": "execute_result"
    },
    {
     "data": {
      "image/png": "[encoded data removed]",
      "text/plain": [
       "<Figure size 432x288 with 1 Axes>"
      ]
     },
     "metadata": {
      "needs_background": "light"
     },
     "output_type": "display_data"
    }
   ],
   "source": [
    "train_data['education'].value_counts().plot.bar()"
   ]
  },
  {
   "cell_type": "markdown",
   "metadata": {},
   "source": [
    "<b>Most of the individuals are HS-grads.76% of individuals are HS-grad, Some-college, Bachelors and Masters</b>"
   ]
  },
  {
   "cell_type": "code",
   "execution_count": 20,
   "metadata": {},
   "outputs": [
    {
     "data": {
      "text/plain": [
       "9     10501\n",
       "10     7291\n",
       "13     5355\n",
       "14     1723\n",
       "11     1382\n",
       "7      1175\n",
       "12     1067\n",
       "6       933\n",
       "4       646\n",
       "15      576\n",
       "5       514\n",
       "8       433\n",
       "16      413\n",
       "3       333\n",
       "2       168\n",
       "1        51\n",
       "Name: education-num, dtype: int64"
      ]
     },
     "execution_count": 20,
     "metadata": {},
     "output_type": "execute_result"
    }
   ],
   "source": [
    "train_data['education-num'].value_counts()"
   ]
  },
  {
   "cell_type": "code",
   "execution_count": 21,
   "metadata": {},
   "outputs": [
    {
     "data": {
      "text/plain": [
       "<matplotlib.axes._subplots.AxesSubplot at 0x187f5b57f48>"
      ]
     },
     "execution_count": 21,
     "metadata": {},
     "output_type": "execute_result"
    },
    {
     "data": {
      "image/png": "[encoded data removed]",
      "text/plain": [
       "<Figure size 432x288 with 1 Axes>"
      ]
     },
     "metadata": {
      "needs_background": "light"
     },
     "output_type": "display_data"
    }
   ],
   "source": [
    "train_data['education-num'].value_counts().plot.bar()"
   ]
  },
  {
   "cell_type": "markdown",
   "metadata": {},
   "source": [
    "<b>Education and education-num are redundant</b>"
   ]
  },
  {
   "cell_type": "code",
   "execution_count": 22,
   "metadata": {},
   "outputs": [
    {
     "data": {
      "text/plain": [
       "Married-civ-spouse       14976\n",
       "Never-married            10683\n",
       "Divorced                  4443\n",
       "Separated                 1025\n",
       "Widowed                    993\n",
       "Married-spouse-absent      418\n",
       "Married-AF-spouse           23\n",
       "Name: marital-status, dtype: int64"
      ]
     },
     "execution_count": 22,
     "metadata": {},
     "output_type": "execute_result"
    }
   ],
   "source": [
    "train_data['marital-status'].value_counts()"
   ]
  },
  {
   "cell_type": "code",
   "execution_count": 23,
   "metadata": {},
   "outputs": [
    {
     "data": {
      "text/plain": [
       "Married-civ-spouse       45.993673\n",
       "Never-married            32.809189\n",
       "Divorced                 13.645158\n",
       "Separated                 3.147938\n",
       "Widowed                   3.049661\n",
       "Married-spouse-absent     1.283744\n",
       "Married-AF-spouse         0.070637\n",
       "Name: marital-status, dtype: float64"
      ]
     },
     "execution_count": 23,
     "metadata": {},
     "output_type": "execute_result"
    }
   ],
   "source": [
    "(train_data['marital-status'].value_counts()/train_data['marital-status'].value_counts().sum())*100"
   ]
  },
  {
   "cell_type": "code",
   "execution_count": 24,
   "metadata": {},
   "outputs": [
    {
     "data": {
      "text/plain": [
       "<matplotlib.axes._subplots.AxesSubplot at 0x187f5bebd48>"
      ]
     },
     "execution_count": 24,
     "metadata": {},
     "output_type": "execute_result"
    },
    {
     "data": {
      "image/png": "[encoded data removed]",
      "text/plain": [
       "<Figure size 432x288 with 1 Axes>"
      ]
     },
     "metadata": {
      "needs_background": "light"
     },
     "output_type": "display_data"
    }
   ],
   "source": [
    "train_data['marital-status'].value_counts().plot.bar()"
   ]
  },
  {
   "cell_type": "markdown",
   "metadata": {},
   "source": [
    "<b>Most of the individuals are Married-civ-spouse. 93% of individuals are Married-civ-spouse or Never-married or Divorced</b>"
   ]
  },
  {
   "cell_type": "code",
   "execution_count": 25,
   "metadata": {},
   "outputs": [
    {
     "data": {
      "text/plain": [
       "Prof-specialty       4140\n",
       "Craft-repair         4099\n",
       "Exec-managerial      4066\n",
       "Adm-clerical         3770\n",
       "Sales                3650\n",
       "Other-service        3295\n",
       "Machine-op-inspct    2002\n",
       "Transport-moving     1597\n",
       "Handlers-cleaners    1370\n",
       "Farming-fishing       994\n",
       "Tech-support          928\n",
       "Protective-serv       649\n",
       "Priv-house-serv       149\n",
       "Armed-Forces            9\n",
       "Name: occupation, dtype: int64"
      ]
     },
     "execution_count": 25,
     "metadata": {},
     "output_type": "execute_result"
    }
   ],
   "source": [
    "train_data['occupation'].value_counts()"
   ]
  },
  {
   "cell_type": "code",
   "execution_count": 26,
   "metadata": {},
   "outputs": [
    {
     "data": {
      "text/plain": [
       "Prof-specialty       13.477440\n",
       "Craft-repair         13.343968\n",
       "Exec-managerial      13.236539\n",
       "Adm-clerical         12.272934\n",
       "Sales                11.882284\n",
       "Other-service        10.726610\n",
       "Machine-op-inspct     6.517351\n",
       "Transport-moving      5.198906\n",
       "Handlers-cleaners     4.459926\n",
       "Farming-fishing       3.235888\n",
       "Tech-support          3.021030\n",
       "Protective-serv       2.112768\n",
       "Priv-house-serv       0.485058\n",
       "Armed-Forces          0.029299\n",
       "Name: occupation, dtype: float64"
      ]
     },
     "execution_count": 26,
     "metadata": {},
     "output_type": "execute_result"
    }
   ],
   "source": [
    "(train_data['occupation'].value_counts()/train_data['occupation'].value_counts().sum())*100"
   ]
  },
  {
   "cell_type": "code",
   "execution_count": 27,
   "metadata": {},
   "outputs": [
    {
     "data": {
      "text/plain": [
       "<matplotlib.axes._subplots.AxesSubplot at 0x187f5c95908>"
      ]
     },
     "execution_count": 27,
     "metadata": {},
     "output_type": "execute_result"
    },
    {
     "data": {
      "image/png": "[encoded data removed]",
      "text/plain": [
       "<Figure size 432x288 with 1 Axes>"
      ]
     },
     "metadata": {
      "needs_background": "light"
     },
     "output_type": "display_data"
    }
   ],
   "source": [
    "train_data['occupation'].value_counts().plot.bar()"
   ]
  },
  {
   "cell_type": "code",
   "execution_count": 28,
   "metadata": {},
   "outputs": [
    {
     "data": {
      "text/plain": [
       "Husband           13193\n",
       "Not-in-family      8305\n",
       "Own-child          5068\n",
       "Unmarried          3446\n",
       "Wife               1568\n",
       "Other-relative      981\n",
       "Name: relationship, dtype: int64"
      ]
     },
     "execution_count": 28,
     "metadata": {},
     "output_type": "execute_result"
    }
   ],
   "source": [
    "train_data['relationship'].value_counts()"
   ]
  },
  {
   "cell_type": "code",
   "execution_count": 29,
   "metadata": {},
   "outputs": [
    {
     "data": {
      "text/plain": [
       "Husband           40.517797\n",
       "Not-in-family     25.505973\n",
       "Own-child         15.564633\n",
       "Unmarried         10.583213\n",
       "Wife               4.815577\n",
       "Other-relative     3.012807\n",
       "Name: relationship, dtype: float64"
      ]
     },
     "execution_count": 29,
     "metadata": {},
     "output_type": "execute_result"
    }
   ],
   "source": [
    "(train_data['relationship'].value_counts()/train_data['relationship'].value_counts().sum())*100"
   ]
  },
  {
   "cell_type": "code",
   "execution_count": 30,
   "metadata": {},
   "outputs": [
    {
     "data": {
      "text/plain": [
       "<matplotlib.axes._subplots.AxesSubplot at 0x187f5d55dc8>"
      ]
     },
     "execution_count": 30,
     "metadata": {},
     "output_type": "execute_result"
    },
    {
     "data": {
      "image/png": "[encoded data removed]",
      "text/plain": [
       "<Figure size 432x288 with 1 Axes>"
      ]
     },
     "metadata": {
      "needs_background": "light"
     },
     "output_type": "display_data"
    }
   ],
   "source": [
    "train_data['relationship'].value_counts().plot.bar()"
   ]
  },
  {
   "cell_type": "markdown",
   "metadata": {},
   "source": [
    "<b>Most of the individuals are husbands followed by no-in-family</b>"
   ]
  },
  {
   "cell_type": "code",
   "execution_count": 31,
   "metadata": {},
   "outputs": [
    {
     "data": {
      "text/plain": [
       "White                 27816\n",
       "Black                  3124\n",
       "Asian-Pac-Islander     1039\n",
       "Amer-Indian-Eskimo      311\n",
       "Other                   271\n",
       "Name: race, dtype: int64"
      ]
     },
     "execution_count": 31,
     "metadata": {},
     "output_type": "execute_result"
    }
   ],
   "source": [
    "train_data['race'].value_counts()"
   ]
  },
  {
   "cell_type": "code",
   "execution_count": 32,
   "metadata": {},
   "outputs": [
    {
     "data": {
      "text/plain": [
       "White                 85.427352\n",
       "Black                  9.594300\n",
       "Asian-Pac-Islander     3.190934\n",
       "Amer-Indian-Eskimo     0.955130\n",
       "Other                  0.832284\n",
       "Name: race, dtype: float64"
      ]
     },
     "execution_count": 32,
     "metadata": {},
     "output_type": "execute_result"
    }
   ],
   "source": [
    "(train_data['race'].value_counts()/train_data['race'].value_counts().sum())*100"
   ]
  },
  {
   "cell_type": "code",
   "execution_count": 33,
   "metadata": {},
   "outputs": [
    {
     "data": {
      "text/plain": [
       "<matplotlib.axes._subplots.AxesSubplot at 0x187f6da3a88>"
      ]
     },
     "execution_count": 33,
     "metadata": {},
     "output_type": "execute_result"
    },
    {
     "data": {
      "image/png": "[encoded data removed]",
      "text/plain": [
       "<Figure size 432x288 with 1 Axes>"
      ]
     },
     "metadata": {
      "needs_background": "light"
     },
     "output_type": "display_data"
    }
   ],
   "source": [
    "train_data['race'].value_counts().plot.bar()"
   ]
  },
  {
   "cell_type": "markdown",
   "metadata": {},
   "source": [
    "<b>Most of the individuals are white</b>"
   ]
  },
  {
   "cell_type": "code",
   "execution_count": 34,
   "metadata": {},
   "outputs": [
    {
     "data": {
      "text/plain": [
       "count    32561.000000\n",
       "mean      1077.648844\n",
       "std       7385.292085\n",
       "min          0.000000\n",
       "25%          0.000000\n",
       "50%          0.000000\n",
       "75%          0.000000\n",
       "max      99999.000000\n",
       "Name: capital-gain, dtype: float64"
      ]
     },
     "execution_count": 34,
     "metadata": {},
     "output_type": "execute_result"
    }
   ],
   "source": [
    "train_data['capital-gain'].describe()"
   ]
  },
  {
   "cell_type": "code",
   "execution_count": 35,
   "metadata": {},
   "outputs": [
    {
     "data": {
      "text/plain": [
       "<matplotlib.axes._subplots.AxesSubplot at 0x187f5d5c9c8>"
      ]
     },
     "execution_count": 35,
     "metadata": {},
     "output_type": "execute_result"
    },
    {
     "data": {
      "image/png": "[encoded data removed]",
      "text/plain": [
       "<Figure size 432x288 with 1 Axes>"
      ]
     },
     "metadata": {
      "needs_background": "light"
     },
     "output_type": "display_data"
    }
   ],
   "source": [
    "sns.distplot(train_data['capital-gain'])"
   ]
  },
  {
   "cell_type": "code",
   "execution_count": 36,
   "metadata": {},
   "outputs": [
    {
     "data": {
      "text/plain": [
       "<matplotlib.axes._subplots.AxesSubplot at 0x187f6f19d48>"
      ]
     },
     "execution_count": 36,
     "metadata": {},
     "output_type": "execute_result"
    },
    {
     "data": {
      "image/png": "[encoded data removed]",
      "text/plain": [
       "<Figure size 432x288 with 1 Axes>"
      ]
     },
     "metadata": {
      "needs_background": "light"
     },
     "output_type": "display_data"
    }
   ],
   "source": [
    "sns.boxplot(train_data['capital-gain'])"
   ]
  },
  {
   "cell_type": "markdown",
   "metadata": {},
   "source": [
    "<b>Most of the capital gains are 0 which might require converting the variable to categories</b>"
   ]
  },
  {
   "cell_type": "code",
   "execution_count": 37,
   "metadata": {},
   "outputs": [
    {
     "data": {
      "text/plain": [
       "count     2712.000000\n",
       "mean     12938.541298\n",
       "std      22395.413530\n",
       "min        114.000000\n",
       "25%       3411.000000\n",
       "50%       7298.000000\n",
       "75%      14084.000000\n",
       "max      99999.000000\n",
       "Name: capital-gain, dtype: float64"
      ]
     },
     "execution_count": 37,
     "metadata": {},
     "output_type": "execute_result"
    }
   ],
   "source": [
    "train_data[train_data['capital-gain']!=0]['capital-gain'].describe()"
   ]
  },
  {
   "cell_type": "code",
   "execution_count": 38,
   "metadata": {},
   "outputs": [
    {
     "data": {
      "text/plain": [
       "<matplotlib.axes._subplots.AxesSubplot at 0x187f6f72a08>"
      ]
     },
     "execution_count": 38,
     "metadata": {},
     "output_type": "execute_result"
    },
    {
     "data": {
      "image/png": "[encoded data removed]",
      "text/plain": [
       "<Figure size 432x288 with 1 Axes>"
      ]
     },
     "metadata": {
      "needs_background": "light"
     },
     "output_type": "display_data"
    }
   ],
   "source": [
    "sns.distplot(train_data[train_data['capital-gain']!=0]['capital-gain'])"
   ]
  },
  {
   "cell_type": "code",
   "execution_count": 39,
   "metadata": {},
   "outputs": [
    {
     "data": {
      "text/plain": [
       "<matplotlib.axes._subplots.AxesSubplot at 0x187f7074d08>"
      ]
     },
     "execution_count": 39,
     "metadata": {},
     "output_type": "execute_result"
    },
    {
     "data": {
      "image/png": "[encoded data removed]",
      "text/plain": [
       "<Figure size 432x288 with 1 Axes>"
      ]
     },
     "metadata": {
      "needs_background": "light"
     },
     "output_type": "display_data"
    }
   ],
   "source": [
    "sns.boxplot(train_data[train_data['capital-gain']!=0]['capital-gain'])"
   ]
  },
  {
   "cell_type": "code",
   "execution_count": 40,
   "metadata": {},
   "outputs": [
    {
     "data": {
      "text/plain": [
       "1077.6488437087312"
      ]
     },
     "execution_count": 40,
     "metadata": {},
     "output_type": "execute_result"
    }
   ],
   "source": [
    "train_data['capital-gain'].mean()"
   ]
  },
  {
   "cell_type": "code",
   "execution_count": 41,
   "metadata": {},
   "outputs": [
    {
     "data": {
      "text/plain": [
       "count    32561.000000\n",
       "mean        87.303830\n",
       "std        402.960219\n",
       "min          0.000000\n",
       "25%          0.000000\n",
       "50%          0.000000\n",
       "75%          0.000000\n",
       "max       4356.000000\n",
       "Name: capital-loss, dtype: float64"
      ]
     },
     "execution_count": 41,
     "metadata": {},
     "output_type": "execute_result"
    }
   ],
   "source": [
    "train_data['capital-loss'].describe()"
   ]
  },
  {
   "cell_type": "code",
   "execution_count": 42,
   "metadata": {},
   "outputs": [
    {
     "data": {
      "text/plain": [
       "<matplotlib.axes._subplots.AxesSubplot at 0x187f70c0e88>"
      ]
     },
     "execution_count": 42,
     "metadata": {},
     "output_type": "execute_result"
    },
    {
     "data": {
      "image/png": "[encoded data removed]",
      "text/plain": [
       "<Figure size 432x288 with 1 Axes>"
      ]
     },
     "metadata": {
      "needs_background": "light"
     },
     "output_type": "display_data"
    }
   ],
   "source": [
    "sns.distplot(train_data['capital-loss'])"
   ]
  },
  {
   "cell_type": "code",
   "execution_count": 43,
   "metadata": {},
   "outputs": [
    {
     "data": {
      "text/plain": [
       "<matplotlib.axes._subplots.AxesSubplot at 0x187f71d9748>"
      ]
     },
     "execution_count": 43,
     "metadata": {},
     "output_type": "execute_result"
    },
    {
     "data": {
      "image/png": "[encoded data removed]",
      "text/plain": [
       "<Figure size 432x288 with 1 Axes>"
      ]
     },
     "metadata": {
      "needs_background": "light"
     },
     "output_type": "display_data"
    }
   ],
   "source": [
    "sns.boxplot(train_data['capital-loss'])"
   ]
  },
  {
   "cell_type": "markdown",
   "metadata": {},
   "source": [
    "<b>Most of the capital losses are 0 which might require converting the variable into categories</b>"
   ]
  },
  {
   "cell_type": "code",
   "execution_count": 44,
   "metadata": {},
   "outputs": [
    {
     "data": {
      "text/plain": [
       "count    1519.000000\n",
       "mean     1871.428571\n",
       "std       376.571535\n",
       "min       155.000000\n",
       "25%      1672.000000\n",
       "50%      1887.000000\n",
       "75%      1977.000000\n",
       "max      4356.000000\n",
       "Name: capital-loss, dtype: float64"
      ]
     },
     "execution_count": 44,
     "metadata": {},
     "output_type": "execute_result"
    }
   ],
   "source": [
    "train_data[train_data['capital-loss']!=0]['capital-loss'].describe()"
   ]
  },
  {
   "cell_type": "code",
   "execution_count": 45,
   "metadata": {},
   "outputs": [
    {
     "data": {
      "text/plain": [
       "<matplotlib.axes._subplots.AxesSubplot at 0x187f7226348>"
      ]
     },
     "execution_count": 45,
     "metadata": {},
     "output_type": "execute_result"
    },
    {
     "data": {
      "image/png": "[encoded data removed]",
      "text/plain": [
       "<Figure size 432x288 with 1 Axes>"
      ]
     },
     "metadata": {
      "needs_background": "light"
     },
     "output_type": "display_data"
    }
   ],
   "source": [
    "sns.distplot(train_data[train_data['capital-loss']!=0]['capital-loss'])"
   ]
  },
  {
   "cell_type": "code",
   "execution_count": 46,
   "metadata": {},
   "outputs": [
    {
     "data": {
      "text/plain": [
       "<matplotlib.axes._subplots.AxesSubplot at 0x187f72da848>"
      ]
     },
     "execution_count": 46,
     "metadata": {},
     "output_type": "execute_result"
    },
    {
     "data": {
      "image/png": "[encoded data removed]",
      "text/plain": [
       "<Figure size 432x288 with 1 Axes>"
      ]
     },
     "metadata": {
      "needs_background": "light"
     },
     "output_type": "display_data"
    }
   ],
   "source": [
    "sns.boxplot(train_data[train_data['capital-loss']!=0]['capital-loss'])"
   ]
  },
  {
   "cell_type": "code",
   "execution_count": 47,
   "metadata": {},
   "outputs": [
    {
     "data": {
      "text/plain": [
       "count    32561.000000\n",
       "mean        40.437456\n",
       "std         12.347429\n",
       "min          1.000000\n",
       "25%         40.000000\n",
       "50%         40.000000\n",
       "75%         45.000000\n",
       "max         99.000000\n",
       "Name: hours-per-week, dtype: float64"
      ]
     },
     "execution_count": 47,
     "metadata": {},
     "output_type": "execute_result"
    }
   ],
   "source": [
    "train_data['hours-per-week'].describe()"
   ]
  },
  {
   "cell_type": "code",
   "execution_count": 48,
   "metadata": {},
   "outputs": [
    {
     "data": {
      "text/plain": [
       "<matplotlib.axes._subplots.AxesSubplot at 0x187f73380c8>"
      ]
     },
     "execution_count": 48,
     "metadata": {},
     "output_type": "execute_result"
    },
    {
     "data": {
      "image/png": "[encoded data removed]",
      "text/plain": [
       "<Figure size 432x288 with 1 Axes>"
      ]
     },
     "metadata": {
      "needs_background": "light"
     },
     "output_type": "display_data"
    }
   ],
   "source": [
    "sns.distplot(train_data['hours-per-week'])"
   ]
  },
  {
   "cell_type": "code",
   "execution_count": 49,
   "metadata": {},
   "outputs": [
    {
     "data": {
      "text/plain": [
       "<matplotlib.axes._subplots.AxesSubplot at 0x187f7491d08>"
      ]
     },
     "execution_count": 49,
     "metadata": {},
     "output_type": "execute_result"
    },
    {
     "data": {
      "image/png": "[encoded data removed]",
      "text/plain": [
       "<Figure size 432x288 with 1 Axes>"
      ]
     },
     "metadata": {
      "needs_background": "light"
     },
     "output_type": "display_data"
    }
   ],
   "source": [
    "sns.boxplot(train_data['hours-per-week'])"
   ]
  },
  {
   "cell_type": "markdown",
   "metadata": {},
   "source": [
    "<b>Most individuals work around 40 hours per week</b>"
   ]
  },
  {
   "cell_type": "code",
   "execution_count": 50,
   "metadata": {},
   "outputs": [
    {
     "data": {
      "text/plain": [
       "United-States                 29170\n",
       "Mexico                          643\n",
       "Philippines                     198\n",
       "Germany                         137\n",
       "Canada                          121\n",
       "Puerto-Rico                     114\n",
       "El-Salvador                     106\n",
       "India                           100\n",
       "Cuba                             95\n",
       "England                          90\n",
       "Jamaica                          81\n",
       "South                            80\n",
       "China                            75\n",
       "Italy                            73\n",
       "Dominican-Republic               70\n",
       "Vietnam                          67\n",
       "Guatemala                        64\n",
       "Japan                            62\n",
       "Poland                           60\n",
       "Columbia                         59\n",
       "Taiwan                           51\n",
       "Haiti                            44\n",
       "Iran                             43\n",
       "Portugal                         37\n",
       "Nicaragua                        34\n",
       "Peru                             31\n",
       "Greece                           29\n",
       "France                           29\n",
       "Ecuador                          28\n",
       "Ireland                          24\n",
       "Hong                             20\n",
       "Trinadad&Tobago                  19\n",
       "Cambodia                         19\n",
       "Laos                             18\n",
       "Thailand                         18\n",
       "Yugoslavia                       16\n",
       "Outlying-US(Guam-USVI-etc)       14\n",
       "Hungary                          13\n",
       "Honduras                         13\n",
       "Scotland                         12\n",
       "Holand-Netherlands                1\n",
       "Name: native-country, dtype: int64"
      ]
     },
     "execution_count": 50,
     "metadata": {},
     "output_type": "execute_result"
    }
   ],
   "source": [
    "train_data['native-country'].value_counts()"
   ]
  },
  {
   "cell_type": "code",
   "execution_count": 51,
   "metadata": {},
   "outputs": [
    {
     "data": {
      "text/plain": [
       "United-States                 91.218963\n",
       "Mexico                         2.010757\n",
       "Philippines                    0.619176\n",
       "Germany                        0.428420\n",
       "Canada                         0.378385\n",
       "Puerto-Rico                    0.356495\n",
       "El-Salvador                    0.331478\n",
       "India                          0.312715\n",
       "Cuba                           0.297079\n",
       "England                        0.281443\n",
       "Jamaica                        0.253299\n",
       "South                          0.250172\n",
       "China                          0.234536\n",
       "Italy                          0.228282\n",
       "Dominican-Republic             0.218900\n",
       "Vietnam                        0.209519\n",
       "Guatemala                      0.200138\n",
       "Japan                          0.193883\n",
       "Poland                         0.187629\n",
       "Columbia                       0.184502\n",
       "Taiwan                         0.159485\n",
       "Haiti                          0.137595\n",
       "Iran                           0.134467\n",
       "Portugal                       0.115705\n",
       "Nicaragua                      0.106323\n",
       "Peru                           0.096942\n",
       "Greece                         0.090687\n",
       "France                         0.090687\n",
       "Ecuador                        0.087560\n",
       "Ireland                        0.075052\n",
       "Hong                           0.062543\n",
       "Trinadad&Tobago                0.059416\n",
       "Cambodia                       0.059416\n",
       "Laos                           0.056289\n",
       "Thailand                       0.056289\n",
       "Yugoslavia                     0.050034\n",
       "Outlying-US(Guam-USVI-etc)     0.043780\n",
       "Hungary                        0.040653\n",
       "Honduras                       0.040653\n",
       "Scotland                       0.037526\n",
       "Holand-Netherlands             0.003127\n",
       "Name: native-country, dtype: float64"
      ]
     },
     "execution_count": 51,
     "metadata": {},
     "output_type": "execute_result"
    }
   ],
   "source": [
    "(train_data['native-country'].value_counts()/train_data['native-country'].value_counts().sum())*100"
   ]
  },
  {
   "cell_type": "code",
   "execution_count": 52,
   "metadata": {},
   "outputs": [
    {
     "data": {
      "text/plain": [
       "<matplotlib.axes._subplots.AxesSubplot at 0x187f7308708>"
      ]
     },
     "execution_count": 52,
     "metadata": {},
     "output_type": "execute_result"
    },
    {
     "data": {
      "image/png": "[encoded data removed]",
      "text/plain": [
       "<Figure size 432x288 with 1 Axes>"
      ]
     },
     "metadata": {
      "needs_background": "light"
     },
     "output_type": "display_data"
    }
   ],
   "source": [
    "train_data['native-country'].value_counts().plot.bar()"
   ]
  },
  {
   "cell_type": "markdown",
   "metadata": {},
   "source": [
    "<b>Most citizens are from United States by a wide margin</b>"
   ]
  },
  {
   "cell_type": "code",
   "execution_count": 53,
   "metadata": {},
   "outputs": [
    {
     "data": {
      "text/plain": [
       "<=50K    24720\n",
       ">50K      7841\n",
       "Name: Income, dtype: int64"
      ]
     },
     "execution_count": 53,
     "metadata": {},
     "output_type": "execute_result"
    }
   ],
   "source": [
    "train_data['Income'].value_counts()"
   ]
  },
  {
   "cell_type": "code",
   "execution_count": 54,
   "metadata": {},
   "outputs": [
    {
     "data": {
      "text/plain": [
       "<=50K    75.919044\n",
       ">50K     24.080956\n",
       "Name: Income, dtype: float64"
      ]
     },
     "execution_count": 54,
     "metadata": {},
     "output_type": "execute_result"
    }
   ],
   "source": [
    "(train_data['Income'].value_counts()/train_data['Income'].value_counts().sum())*100"
   ]
  },
  {
   "cell_type": "code",
   "execution_count": 55,
   "metadata": {},
   "outputs": [
    {
     "data": {
      "text/plain": [
       "<matplotlib.axes._subplots.AxesSubplot at 0x187f76355c8>"
      ]
     },
     "execution_count": 55,
     "metadata": {},
     "output_type": "execute_result"
    },
    {
     "data": {
      "image/png": "[encoded data removed]",
      "text/plain": [
       "<Figure size 432x288 with 1 Axes>"
      ]
     },
     "metadata": {
      "needs_background": "light"
     },
     "output_type": "display_data"
    }
   ],
   "source": [
    "train_data['Income'].value_counts().plot.bar()"
   ]
  },
  {
   "cell_type": "markdown",
   "metadata": {},
   "source": [
    "<b>We have a class imbalance here but we are going to see if that will cause a problem</b>"
   ]
  },
  {
   "cell_type": "markdown",
   "metadata": {},
   "source": [
    "<hr>"
   ]
  },
  {
   "cell_type": "markdown",
   "metadata": {},
   "source": [
    "<hr>"
   ]
  },
  {
   "cell_type": "markdown",
   "metadata": {},
   "source": [
    "<hr>"
   ]
  },
  {
   "cell_type": "markdown",
   "metadata": {},
   "source": [
    "<hr>"
   ]
  },
  {
   "cell_type": "markdown",
   "metadata": {},
   "source": [
    "<b>Now lets see what variables are correlated with the target variable</b>"
   ]
  },
  {
   "cell_type": "code",
   "execution_count": 56,
   "metadata": {},
   "outputs": [
    {
     "data": {
      "text/plain": [
       "([<matplotlib.axis.YTick at 0x187f76bd388>,\n",
       "  <matplotlib.axis.YTick at 0x187f76a5908>,\n",
       "  <matplotlib.axis.YTick at 0x187f76bcc08>,\n",
       "  <matplotlib.axis.YTick at 0x187f76e54c8>,\n",
       "  <matplotlib.axis.YTick at 0x187f7709988>,\n",
       "  <matplotlib.axis.YTick at 0x187f770e048>,\n",
       "  <matplotlib.axis.YTick at 0x187f770eb08>,\n",
       "  <matplotlib.axis.YTick at 0x187f7712488>,\n",
       "  <matplotlib.axis.YTick at 0x187f7712bc8>,\n",
       "  <matplotlib.axis.YTick at 0x187f7709848>,\n",
       "  <matplotlib.axis.YTick at 0x187f7715448>,\n",
       "  <matplotlib.axis.YTick at 0x187f7715e48>,\n",
       "  <matplotlib.axis.YTick at 0x187f771a808>,\n",
       "  <matplotlib.axis.YTick at 0x187f771f388>,\n",
       "  <matplotlib.axis.YTick at 0x187f771fd88>,\n",
       "  <matplotlib.axis.YTick at 0x187f7722a48>,\n",
       "  <matplotlib.axis.YTick at 0x187f77275c8>,\n",
       "  <matplotlib.axis.YTick at 0x187f772a1c8>,\n",
       "  <matplotlib.axis.YTick at 0x187f771fdc8>,\n",
       "  <matplotlib.axis.YTick at 0x187f772a8c8>,\n",
       "  <matplotlib.axis.YTick at 0x187f772d2c8>],\n",
       " <a list of 21 Text yticklabel objects>)"
      ]
     },
     "execution_count": 56,
     "metadata": {},
     "output_type": "execute_result"
    },
    {
     "data": {
      "image/png": "[encoded data removed]",
      "text/plain": [
       "<Figure size 432x432 with 1 Axes>"
      ]
     },
     "metadata": {
      "needs_background": "light"
     },
     "output_type": "display_data"
    }
   ],
   "source": [
    "plt.figure(figsize=(6,6))\n",
    "sns.boxplot(train_data['Income'], train_data['age'])\n",
    "plt.yticks(list(range(0, 101, 5)))"
   ]
  },
  {
   "cell_type": "code",
   "execution_count": 57,
   "metadata": {},
   "outputs": [
    {
     "data": {
      "text/plain": [
       "44.24984058155847"
      ]
     },
     "execution_count": 57,
     "metadata": {},
     "output_type": "execute_result"
    }
   ],
   "source": [
    "train_data[train_data['Income']=='>50K']['age'].mean()"
   ]
  },
  {
   "cell_type": "code",
   "execution_count": 58,
   "metadata": {},
   "outputs": [
    {
     "data": {
      "text/plain": [
       "36.78373786407767"
      ]
     },
     "execution_count": 58,
     "metadata": {},
     "output_type": "execute_result"
    }
   ],
   "source": [
    "train_data[train_data['Income']=='<=50K']['age'].mean()"
   ]
  },
  {
   "cell_type": "code",
   "execution_count": 108,
   "metadata": {},
   "outputs": [
    {
     "data": {
      "text/plain": [
       "90"
      ]
     },
     "execution_count": 108,
     "metadata": {},
     "output_type": "execute_result"
    }
   ],
   "source": [
    "train_data[train_data['Income']=='>50K']['age'].max()"
   ]
  },
  {
   "cell_type": "code",
   "execution_count": 112,
   "metadata": {},
   "outputs": [
    {
     "data": {
      "text/plain": [
       "90"
      ]
     },
     "execution_count": 112,
     "metadata": {},
     "output_type": "execute_result"
    }
   ],
   "source": [
    "train_data[train_data['Income']=='<=50K']['age'].max()"
   ]
  },
  {
   "cell_type": "markdown",
   "metadata": {},
   "source": [
    "<b>Older individuals tend to have higher income. All the quartiles for age are higher for the >50k income. Only 25% of individuals who make more than >50k are less than around 36. Age might be a good indicator for predicting income.</b>"
   ]
  },
  {
   "cell_type": "code",
   "execution_count": 59,
   "metadata": {},
   "outputs": [
    {
     "data": {
      "text/html": [
       "<div>\n",
       "<style scoped>\n",
       "    .dataframe tbody tr th:only-of-type {\n",
       "        vertical-align: middle;\n",
       "    }\n",
       "\n",
       "    .dataframe tbody tr th {\n",
       "        vertical-align: top;\n",
       "    }\n",
       "\n",
       "    .dataframe thead th {\n",
       "        text-align: right;\n",
       "    }\n",
       "</style>\n",
       "<table border=\"1\" class=\"dataframe\">\n",
       "  <thead>\n",
       "    <tr style=\"text-align: right;\">\n",
       "      <th>Income</th>\n",
       "      <th>&lt;=50K</th>\n",
       "      <th>&gt;50K</th>\n",
       "    </tr>\n",
       "    <tr>\n",
       "      <th>workclass</th>\n",
       "      <th></th>\n",
       "      <th></th>\n",
       "    </tr>\n",
       "  </thead>\n",
       "  <tbody>\n",
       "    <tr>\n",
       "      <td>Self-emp-inc</td>\n",
       "      <td>44.265233</td>\n",
       "      <td>55.734767</td>\n",
       "    </tr>\n",
       "    <tr>\n",
       "      <td>Federal-gov</td>\n",
       "      <td>61.354167</td>\n",
       "      <td>38.645833</td>\n",
       "    </tr>\n",
       "    <tr>\n",
       "      <td>Local-gov</td>\n",
       "      <td>70.520784</td>\n",
       "      <td>29.479216</td>\n",
       "    </tr>\n",
       "    <tr>\n",
       "      <td>Self-emp-not-inc</td>\n",
       "      <td>71.507281</td>\n",
       "      <td>28.492719</td>\n",
       "    </tr>\n",
       "    <tr>\n",
       "      <td>State-gov</td>\n",
       "      <td>72.804314</td>\n",
       "      <td>27.195686</td>\n",
       "    </tr>\n",
       "    <tr>\n",
       "      <td>Private</td>\n",
       "      <td>78.132711</td>\n",
       "      <td>21.867289</td>\n",
       "    </tr>\n",
       "    <tr>\n",
       "      <td>Never-worked</td>\n",
       "      <td>100.000000</td>\n",
       "      <td>0.000000</td>\n",
       "    </tr>\n",
       "    <tr>\n",
       "      <td>Without-pay</td>\n",
       "      <td>100.000000</td>\n",
       "      <td>0.000000</td>\n",
       "    </tr>\n",
       "  </tbody>\n",
       "</table>\n",
       "</div>"
      ],
      "text/plain": [
       "Income                 <=50K       >50K\n",
       "workclass                              \n",
       "Self-emp-inc       44.265233  55.734767\n",
       "Federal-gov        61.354167  38.645833\n",
       "Local-gov          70.520784  29.479216\n",
       "Self-emp-not-inc   71.507281  28.492719\n",
       "State-gov          72.804314  27.195686\n",
       "Private            78.132711  21.867289\n",
       "Never-worked      100.000000   0.000000\n",
       "Without-pay       100.000000   0.000000"
      ]
     },
     "execution_count": 59,
     "metadata": {},
     "output_type": "execute_result"
    }
   ],
   "source": [
    "wcct=pd.crosstab(train_data['workclass'], train_data['Income']).apply(lambda r: r/r.sum(), axis=1)*100\n",
    "wcct.sort_values(by='>50K', ascending=False, inplace=True)\n",
    "wcct"
   ]
  },
  {
   "cell_type": "code",
   "execution_count": 60,
   "metadata": {},
   "outputs": [
    {
     "data": {
      "text/plain": [
       "([<matplotlib.axis.YTick at 0x187f8778148>,\n",
       "  <matplotlib.axis.YTick at 0x187f8774648>,\n",
       "  <matplotlib.axis.YTick at 0x187f8769e88>,\n",
       "  <matplotlib.axis.YTick at 0x187f87e8b48>,\n",
       "  <matplotlib.axis.YTick at 0x187f87eb488>,\n",
       "  <matplotlib.axis.YTick at 0x187f87ef0c8>,\n",
       "  <matplotlib.axis.YTick at 0x187f87efb88>,\n",
       "  <matplotlib.axis.YTick at 0x187f87f3708>,\n",
       "  <matplotlib.axis.YTick at 0x187f87f8048>,\n",
       "  <matplotlib.axis.YTick at 0x187f87e8dc8>,\n",
       "  <matplotlib.axis.YTick at 0x187f87f8bc8>],\n",
       " <a list of 11 Text yticklabel objects>)"
      ]
     },
     "execution_count": 60,
     "metadata": {},
     "output_type": "execute_result"
    },
    {
     "data": {
      "image/png": "[encoded data removed]",
      "text/plain": [
       "<Figure size 504x360 with 1 Axes>"
      ]
     },
     "metadata": {
      "needs_background": "light"
     },
     "output_type": "display_data"
    }
   ],
   "source": [
    "wcct.plot.bar(stacked=True, figsize=(7, 5))\n",
    "plt.legend(loc='lower right')\n",
    "plt.yticks(list(range(0, 101, 10)))"
   ]
  },
  {
   "cell_type": "markdown",
   "metadata": {},
   "source": [
    "<b>self-emp-inc (incorporated. self-employed individuals who set their businesses up as a corporation for tax purposes) have the highest percentage of >50k income followed by federal-gov, etc. Workclass might be a good indicator for predicting income as the percentage of >50k varies depending on the workclass</b>"
   ]
  },
  {
   "cell_type": "code",
   "execution_count": 61,
   "metadata": {},
   "outputs": [
    {
     "data": {
      "text/plain": [
       "([<matplotlib.axis.YTick at 0x187f882f548>,\n",
       "  <matplotlib.axis.YTick at 0x187f7762848>,\n",
       "  <matplotlib.axis.YTick at 0x187f88267c8>,\n",
       "  <matplotlib.axis.YTick at 0x187f884f908>,\n",
       "  <matplotlib.axis.YTick at 0x187f8878d48>,\n",
       "  <matplotlib.axis.YTick at 0x187f887c608>,\n",
       "  <matplotlib.axis.YTick at 0x187f887ce08>,\n",
       "  <matplotlib.axis.YTick at 0x187f887f888>,\n",
       "  <matplotlib.axis.YTick at 0x187f8884288>,\n",
       "  <matplotlib.axis.YTick at 0x187f8884b48>,\n",
       "  <matplotlib.axis.YTick at 0x187f8888488>,\n",
       "  <matplotlib.axis.YTick at 0x187f8888dc8>,\n",
       "  <matplotlib.axis.YTick at 0x187f887fe48>,\n",
       "  <matplotlib.axis.YTick at 0x187f8878c08>,\n",
       "  <matplotlib.axis.YTick at 0x187f888e988>,\n",
       "  <matplotlib.axis.YTick at 0x187f88915c8>],\n",
       " <a list of 16 Text yticklabel objects>)"
      ]
     },
     "execution_count": 61,
     "metadata": {},
     "output_type": "execute_result"
    },
    {
     "data": {
      "image/png": "[encoded data removed]",
      "text/plain": [
       "<Figure size 432x432 with 1 Axes>"
      ]
     },
     "metadata": {
      "needs_background": "light"
     },
     "output_type": "display_data"
    }
   ],
   "source": [
    "plt.figure(figsize=(6,6))\n",
    "sns.boxplot(train_data['Income'], train_data['fnlwgt'])\n",
    "plt.yticks(list(range(0, 1500001, 100000)))"
   ]
  },
  {
   "cell_type": "code",
   "execution_count": 62,
   "metadata": {},
   "outputs": [
    {
     "data": {
      "text/plain": [
       "176101.0"
      ]
     },
     "execution_count": 62,
     "metadata": {},
     "output_type": "execute_result"
    }
   ],
   "source": [
    "train_data[train_data['Income']=='>50K']['fnlwgt'].median()"
   ]
  },
  {
   "cell_type": "code",
   "execution_count": 63,
   "metadata": {},
   "outputs": [
    {
     "data": {
      "text/plain": [
       "179465.0"
      ]
     },
     "execution_count": 63,
     "metadata": {},
     "output_type": "execute_result"
    }
   ],
   "source": [
    "train_data[train_data['Income']=='<=50K']['fnlwgt'].median()"
   ]
  },
  {
   "cell_type": "markdown",
   "metadata": {},
   "source": [
    "<b>fnlwgt does not seem to be a good variable for predicting income as the quartiles and the box plot is nearly equal</b>"
   ]
  },
  {
   "cell_type": "code",
   "execution_count": 64,
   "metadata": {},
   "outputs": [
    {
     "data": {
      "text/html": [
       "<div>\n",
       "<style scoped>\n",
       "    .dataframe tbody tr th:only-of-type {\n",
       "        vertical-align: middle;\n",
       "    }\n",
       "\n",
       "    .dataframe tbody tr th {\n",
       "        vertical-align: top;\n",
       "    }\n",
       "\n",
       "    .dataframe thead th {\n",
       "        text-align: right;\n",
       "    }\n",
       "</style>\n",
       "<table border=\"1\" class=\"dataframe\">\n",
       "  <thead>\n",
       "    <tr style=\"text-align: right;\">\n",
       "      <th>Income</th>\n",
       "      <th>&lt;=50K</th>\n",
       "      <th>&gt;50K</th>\n",
       "    </tr>\n",
       "    <tr>\n",
       "      <th>education</th>\n",
       "      <th></th>\n",
       "      <th></th>\n",
       "    </tr>\n",
       "  </thead>\n",
       "  <tbody>\n",
       "    <tr>\n",
       "      <td>Doctorate</td>\n",
       "      <td>25.907990</td>\n",
       "      <td>74.092010</td>\n",
       "    </tr>\n",
       "    <tr>\n",
       "      <td>Prof-school</td>\n",
       "      <td>26.562500</td>\n",
       "      <td>73.437500</td>\n",
       "    </tr>\n",
       "    <tr>\n",
       "      <td>Masters</td>\n",
       "      <td>44.341265</td>\n",
       "      <td>55.658735</td>\n",
       "    </tr>\n",
       "    <tr>\n",
       "      <td>Bachelors</td>\n",
       "      <td>58.524743</td>\n",
       "      <td>41.475257</td>\n",
       "    </tr>\n",
       "    <tr>\n",
       "      <td>Assoc-voc</td>\n",
       "      <td>73.878437</td>\n",
       "      <td>26.121563</td>\n",
       "    </tr>\n",
       "    <tr>\n",
       "      <td>Assoc-acdm</td>\n",
       "      <td>75.164011</td>\n",
       "      <td>24.835989</td>\n",
       "    </tr>\n",
       "    <tr>\n",
       "      <td>Some-college</td>\n",
       "      <td>80.976546</td>\n",
       "      <td>19.023454</td>\n",
       "    </tr>\n",
       "    <tr>\n",
       "      <td>HS-grad</td>\n",
       "      <td>84.049138</td>\n",
       "      <td>15.950862</td>\n",
       "    </tr>\n",
       "    <tr>\n",
       "      <td>12th</td>\n",
       "      <td>92.378753</td>\n",
       "      <td>7.621247</td>\n",
       "    </tr>\n",
       "    <tr>\n",
       "      <td>10th</td>\n",
       "      <td>93.354770</td>\n",
       "      <td>6.645230</td>\n",
       "    </tr>\n",
       "    <tr>\n",
       "      <td>7th-8th</td>\n",
       "      <td>93.808050</td>\n",
       "      <td>6.191950</td>\n",
       "    </tr>\n",
       "    <tr>\n",
       "      <td>9th</td>\n",
       "      <td>94.747082</td>\n",
       "      <td>5.252918</td>\n",
       "    </tr>\n",
       "    <tr>\n",
       "      <td>11th</td>\n",
       "      <td>94.893617</td>\n",
       "      <td>5.106383</td>\n",
       "    </tr>\n",
       "    <tr>\n",
       "      <td>5th-6th</td>\n",
       "      <td>95.195195</td>\n",
       "      <td>4.804805</td>\n",
       "    </tr>\n",
       "    <tr>\n",
       "      <td>1st-4th</td>\n",
       "      <td>96.428571</td>\n",
       "      <td>3.571429</td>\n",
       "    </tr>\n",
       "    <tr>\n",
       "      <td>Preschool</td>\n",
       "      <td>100.000000</td>\n",
       "      <td>0.000000</td>\n",
       "    </tr>\n",
       "  </tbody>\n",
       "</table>\n",
       "</div>"
      ],
      "text/plain": [
       "Income             <=50K       >50K\n",
       "education                          \n",
       "Doctorate      25.907990  74.092010\n",
       "Prof-school    26.562500  73.437500\n",
       "Masters        44.341265  55.658735\n",
       "Bachelors      58.524743  41.475257\n",
       "Assoc-voc      73.878437  26.121563\n",
       "Assoc-acdm     75.164011  24.835989\n",
       "Some-college   80.976546  19.023454\n",
       "HS-grad        84.049138  15.950862\n",
       "12th           92.378753   7.621247\n",
       "10th           93.354770   6.645230\n",
       "7th-8th        93.808050   6.191950\n",
       "9th            94.747082   5.252918\n",
       "11th           94.893617   5.106383\n",
       "5th-6th        95.195195   4.804805\n",
       "1st-4th        96.428571   3.571429\n",
       "Preschool     100.000000   0.000000"
      ]
     },
     "execution_count": 64,
     "metadata": {},
     "output_type": "execute_result"
    }
   ],
   "source": [
    "edct=pd.crosstab(train_data['education'], train_data['Income']).apply(lambda r: r/r.sum(), axis=1)*100\n",
    "edct.sort_values(by='>50K', ascending=False, inplace=True)\n",
    "edct"
   ]
  },
  {
   "cell_type": "code",
   "execution_count": 65,
   "metadata": {},
   "outputs": [
    {
     "data": {
      "text/plain": [
       "([<matplotlib.axis.YTick at 0x187f88ce6c8>,\n",
       "  <matplotlib.axis.YTick at 0x187f88c7c48>,\n",
       "  <matplotlib.axis.YTick at 0x187f88be508>,\n",
       "  <matplotlib.axis.YTick at 0x187f89743c8>,\n",
       "  <matplotlib.axis.YTick at 0x187f8974ec8>,\n",
       "  <matplotlib.axis.YTick at 0x187f8977648>,\n",
       "  <matplotlib.axis.YTick at 0x187f897b288>,\n",
       "  <matplotlib.axis.YTick at 0x187f897bd48>,\n",
       "  <matplotlib.axis.YTick at 0x187f897f8c8>,\n",
       "  <matplotlib.axis.YTick at 0x187f8983448>,\n",
       "  <matplotlib.axis.YTick at 0x187f897b148>],\n",
       " <a list of 11 Text yticklabel objects>)"
      ]
     },
     "execution_count": 65,
     "metadata": {},
     "output_type": "execute_result"
    },
    {
     "data": {
      "image/png": "[encoded data removed]",
      "text/plain": [
       "<Figure size 504x360 with 1 Axes>"
      ]
     },
     "metadata": {
      "needs_background": "light"
     },
     "output_type": "display_data"
    }
   ],
   "source": [
    "edct.plot.bar(stacked=True, figsize=(7, 5))\n",
    "plt.legend(loc='lower right')\n",
    "plt.yticks(list(range(0, 101, 10)))"
   ]
  },
  {
   "cell_type": "markdown",
   "metadata": {},
   "source": [
    "<b>Education seems to play a big role in determing the income of an individual. The higher the degree, the more likely is the income</b>"
   ]
  },
  {
   "cell_type": "code",
   "execution_count": 66,
   "metadata": {},
   "outputs": [
    {
     "data": {
      "text/html": [
       "<div>\n",
       "<style scoped>\n",
       "    .dataframe tbody tr th:only-of-type {\n",
       "        vertical-align: middle;\n",
       "    }\n",
       "\n",
       "    .dataframe tbody tr th {\n",
       "        vertical-align: top;\n",
       "    }\n",
       "\n",
       "    .dataframe thead th {\n",
       "        text-align: right;\n",
       "    }\n",
       "</style>\n",
       "<table border=\"1\" class=\"dataframe\">\n",
       "  <thead>\n",
       "    <tr style=\"text-align: right;\">\n",
       "      <th>Income</th>\n",
       "      <th>&lt;=50K</th>\n",
       "      <th>&gt;50K</th>\n",
       "    </tr>\n",
       "    <tr>\n",
       "      <th>marital-status</th>\n",
       "      <th></th>\n",
       "      <th></th>\n",
       "    </tr>\n",
       "  </thead>\n",
       "  <tbody>\n",
       "    <tr>\n",
       "      <td>Married-civ-spouse</td>\n",
       "      <td>55.315171</td>\n",
       "      <td>44.684829</td>\n",
       "    </tr>\n",
       "    <tr>\n",
       "      <td>Married-AF-spouse</td>\n",
       "      <td>56.521739</td>\n",
       "      <td>43.478261</td>\n",
       "    </tr>\n",
       "    <tr>\n",
       "      <td>Divorced</td>\n",
       "      <td>89.579113</td>\n",
       "      <td>10.420887</td>\n",
       "    </tr>\n",
       "    <tr>\n",
       "      <td>Widowed</td>\n",
       "      <td>91.440081</td>\n",
       "      <td>8.559919</td>\n",
       "    </tr>\n",
       "    <tr>\n",
       "      <td>Married-spouse-absent</td>\n",
       "      <td>91.866029</td>\n",
       "      <td>8.133971</td>\n",
       "    </tr>\n",
       "    <tr>\n",
       "      <td>Separated</td>\n",
       "      <td>93.560976</td>\n",
       "      <td>6.439024</td>\n",
       "    </tr>\n",
       "    <tr>\n",
       "      <td>Never-married</td>\n",
       "      <td>95.403913</td>\n",
       "      <td>4.596087</td>\n",
       "    </tr>\n",
       "  </tbody>\n",
       "</table>\n",
       "</div>"
      ],
      "text/plain": [
       "Income                     <=50K       >50K\n",
       "marital-status                             \n",
       "Married-civ-spouse     55.315171  44.684829\n",
       "Married-AF-spouse      56.521739  43.478261\n",
       "Divorced               89.579113  10.420887\n",
       "Widowed                91.440081   8.559919\n",
       "Married-spouse-absent  91.866029   8.133971\n",
       "Separated              93.560976   6.439024\n",
       "Never-married          95.403913   4.596087"
      ]
     },
     "execution_count": 66,
     "metadata": {},
     "output_type": "execute_result"
    }
   ],
   "source": [
    "msct=pd.crosstab(train_data['marital-status'], train_data['Income']).apply(lambda r: r/r.sum(), axis=1)*100\n",
    "msct.sort_values(by='>50K', ascending=False, inplace=True)\n",
    "msct"
   ]
  },
  {
   "cell_type": "code",
   "execution_count": 67,
   "metadata": {},
   "outputs": [
    {
     "data": {
      "text/plain": [
       "([<matplotlib.axis.YTick at 0x187f89c2288>,\n",
       "  <matplotlib.axis.YTick at 0x187f89be808>,\n",
       "  <matplotlib.axis.YTick at 0x187f88253c8>,\n",
       "  <matplotlib.axis.YTick at 0x187f8a26708>,\n",
       "  <matplotlib.axis.YTick at 0x187f8a2b1c8>,\n",
       "  <matplotlib.axis.YTick at 0x187f8a2bbc8>,\n",
       "  <matplotlib.axis.YTick at 0x187f8a2f748>,\n",
       "  <matplotlib.axis.YTick at 0x187f8a332c8>,\n",
       "  <matplotlib.axis.YTick at 0x187f8a33bc8>,\n",
       "  <matplotlib.axis.YTick at 0x187f8a0de48>,\n",
       "  <matplotlib.axis.YTick at 0x187f8a36548>],\n",
       " <a list of 11 Text yticklabel objects>)"
      ]
     },
     "execution_count": 67,
     "metadata": {},
     "output_type": "execute_result"
    },
    {
     "data": {
      "image/png": "[encoded data removed]",
      "text/plain": [
       "<Figure size 504x360 with 1 Axes>"
      ]
     },
     "metadata": {
      "needs_background": "light"
     },
     "output_type": "display_data"
    }
   ],
   "source": [
    "msct.plot.bar(stacked=True, figsize=(7, 5))\n",
    "plt.legend(loc='lower right')\n",
    "plt.yticks(list(range(0, 101, 10)))"
   ]
  },
  {
   "cell_type": "markdown",
   "metadata": {},
   "source": [
    "<b>Married-civ-spouse and Married-AF-spouse (civilian and armed forces married spouses) have high percentage of >50k. Might also be a good variable for predicting income!</b>"
   ]
  },
  {
   "cell_type": "code",
   "execution_count": 68,
   "metadata": {},
   "outputs": [
    {
     "data": {
      "text/html": [
       "<div>\n",
       "<style scoped>\n",
       "    .dataframe tbody tr th:only-of-type {\n",
       "        vertical-align: middle;\n",
       "    }\n",
       "\n",
       "    .dataframe tbody tr th {\n",
       "        vertical-align: top;\n",
       "    }\n",
       "\n",
       "    .dataframe thead th {\n",
       "        text-align: right;\n",
       "    }\n",
       "</style>\n",
       "<table border=\"1\" class=\"dataframe\">\n",
       "  <thead>\n",
       "    <tr style=\"text-align: right;\">\n",
       "      <th>Income</th>\n",
       "      <th>&lt;=50K</th>\n",
       "      <th>&gt;50K</th>\n",
       "    </tr>\n",
       "    <tr>\n",
       "      <th>occupation</th>\n",
       "      <th></th>\n",
       "      <th></th>\n",
       "    </tr>\n",
       "  </thead>\n",
       "  <tbody>\n",
       "    <tr>\n",
       "      <td>Exec-managerial</td>\n",
       "      <td>51.598623</td>\n",
       "      <td>48.401377</td>\n",
       "    </tr>\n",
       "    <tr>\n",
       "      <td>Prof-specialty</td>\n",
       "      <td>55.096618</td>\n",
       "      <td>44.903382</td>\n",
       "    </tr>\n",
       "    <tr>\n",
       "      <td>Protective-serv</td>\n",
       "      <td>67.488444</td>\n",
       "      <td>32.511556</td>\n",
       "    </tr>\n",
       "    <tr>\n",
       "      <td>Tech-support</td>\n",
       "      <td>69.504310</td>\n",
       "      <td>30.495690</td>\n",
       "    </tr>\n",
       "    <tr>\n",
       "      <td>Sales</td>\n",
       "      <td>73.068493</td>\n",
       "      <td>26.931507</td>\n",
       "    </tr>\n",
       "    <tr>\n",
       "      <td>Craft-repair</td>\n",
       "      <td>77.335936</td>\n",
       "      <td>22.664064</td>\n",
       "    </tr>\n",
       "    <tr>\n",
       "      <td>Transport-moving</td>\n",
       "      <td>79.962430</td>\n",
       "      <td>20.037570</td>\n",
       "    </tr>\n",
       "    <tr>\n",
       "      <td>Adm-clerical</td>\n",
       "      <td>86.551724</td>\n",
       "      <td>13.448276</td>\n",
       "    </tr>\n",
       "    <tr>\n",
       "      <td>Machine-op-inspct</td>\n",
       "      <td>87.512488</td>\n",
       "      <td>12.487512</td>\n",
       "    </tr>\n",
       "    <tr>\n",
       "      <td>Farming-fishing</td>\n",
       "      <td>88.430584</td>\n",
       "      <td>11.569416</td>\n",
       "    </tr>\n",
       "    <tr>\n",
       "      <td>Armed-Forces</td>\n",
       "      <td>88.888889</td>\n",
       "      <td>11.111111</td>\n",
       "    </tr>\n",
       "    <tr>\n",
       "      <td>Handlers-cleaners</td>\n",
       "      <td>93.722628</td>\n",
       "      <td>6.277372</td>\n",
       "    </tr>\n",
       "    <tr>\n",
       "      <td>Other-service</td>\n",
       "      <td>95.842185</td>\n",
       "      <td>4.157815</td>\n",
       "    </tr>\n",
       "    <tr>\n",
       "      <td>Priv-house-serv</td>\n",
       "      <td>99.328859</td>\n",
       "      <td>0.671141</td>\n",
       "    </tr>\n",
       "  </tbody>\n",
       "</table>\n",
       "</div>"
      ],
      "text/plain": [
       "Income                 <=50K       >50K\n",
       "occupation                             \n",
       "Exec-managerial    51.598623  48.401377\n",
       "Prof-specialty     55.096618  44.903382\n",
       "Protective-serv    67.488444  32.511556\n",
       "Tech-support       69.504310  30.495690\n",
       "Sales              73.068493  26.931507\n",
       "Craft-repair       77.335936  22.664064\n",
       "Transport-moving   79.962430  20.037570\n",
       "Adm-clerical       86.551724  13.448276\n",
       "Machine-op-inspct  87.512488  12.487512\n",
       "Farming-fishing    88.430584  11.569416\n",
       "Armed-Forces       88.888889  11.111111\n",
       "Handlers-cleaners  93.722628   6.277372\n",
       "Other-service      95.842185   4.157815\n",
       "Priv-house-serv    99.328859   0.671141"
      ]
     },
     "execution_count": 68,
     "metadata": {},
     "output_type": "execute_result"
    }
   ],
   "source": [
    "ocpct=pd.crosstab(train_data['occupation'], train_data['Income']).apply(lambda r: r/r.sum(), axis=1)*100\n",
    "ocpct.sort_values(by='>50K', ascending=False, inplace=True)\n",
    "ocpct"
   ]
  },
  {
   "cell_type": "code",
   "execution_count": 69,
   "metadata": {},
   "outputs": [
    {
     "data": {
      "text/plain": [
       "([<matplotlib.axis.YTick at 0x187f8a69c48>,\n",
       "  <matplotlib.axis.YTick at 0x187f5bfbb88>,\n",
       "  <matplotlib.axis.YTick at 0x187f8a684c8>,\n",
       "  <matplotlib.axis.YTick at 0x187f8ae43c8>,\n",
       "  <matplotlib.axis.YTick at 0x187f8ada2c8>,\n",
       "  <matplotlib.axis.YTick at 0x187f8af0c08>,\n",
       "  <matplotlib.axis.YTick at 0x187f8af5748>,\n",
       "  <matplotlib.axis.YTick at 0x187f8af8088>,\n",
       "  <matplotlib.axis.YTick at 0x187f8af8988>,\n",
       "  <matplotlib.axis.YTick at 0x187f8afc2c8>,\n",
       "  <matplotlib.axis.YTick at 0x187f8afcb88>],\n",
       " <a list of 11 Text yticklabel objects>)"
      ]
     },
     "execution_count": 69,
     "metadata": {},
     "output_type": "execute_result"
    },
    {
     "data": {
      "image/png": "[encoded data removed]",
      "text/plain": [
       "<Figure size 504x360 with 1 Axes>"
      ]
     },
     "metadata": {
      "needs_background": "light"
     },
     "output_type": "display_data"
    }
   ],
   "source": [
    "ocpct.plot.bar(stacked=True, figsize=(7, 5))\n",
    "plt.legend(loc='lower right')\n",
    "plt.yticks(list(range(0, 101, 10)))"
   ]
  },
  {
   "cell_type": "markdown",
   "metadata": {},
   "source": [
    "<b>Executive and managerial level have the highest percentage of >50k followed by prof-speciality then protective service occupations, etc. This variable might also be good predictor for income since income varies depending on the occupation</b>"
   ]
  },
  {
   "cell_type": "code",
   "execution_count": 70,
   "metadata": {},
   "outputs": [
    {
     "data": {
      "text/html": [
       "<div>\n",
       "<style scoped>\n",
       "    .dataframe tbody tr th:only-of-type {\n",
       "        vertical-align: middle;\n",
       "    }\n",
       "\n",
       "    .dataframe tbody tr th {\n",
       "        vertical-align: top;\n",
       "    }\n",
       "\n",
       "    .dataframe thead th {\n",
       "        text-align: right;\n",
       "    }\n",
       "</style>\n",
       "<table border=\"1\" class=\"dataframe\">\n",
       "  <thead>\n",
       "    <tr style=\"text-align: right;\">\n",
       "      <th>Income</th>\n",
       "      <th>&lt;=50K</th>\n",
       "      <th>&gt;50K</th>\n",
       "    </tr>\n",
       "    <tr>\n",
       "      <th>relationship</th>\n",
       "      <th></th>\n",
       "      <th></th>\n",
       "    </tr>\n",
       "  </thead>\n",
       "  <tbody>\n",
       "    <tr>\n",
       "      <td>Wife</td>\n",
       "      <td>52.487245</td>\n",
       "      <td>47.512755</td>\n",
       "    </tr>\n",
       "    <tr>\n",
       "      <td>Husband</td>\n",
       "      <td>55.142879</td>\n",
       "      <td>44.857121</td>\n",
       "    </tr>\n",
       "    <tr>\n",
       "      <td>Not-in-family</td>\n",
       "      <td>89.692956</td>\n",
       "      <td>10.307044</td>\n",
       "    </tr>\n",
       "    <tr>\n",
       "      <td>Unmarried</td>\n",
       "      <td>93.673825</td>\n",
       "      <td>6.326175</td>\n",
       "    </tr>\n",
       "    <tr>\n",
       "      <td>Other-relative</td>\n",
       "      <td>96.228338</td>\n",
       "      <td>3.771662</td>\n",
       "    </tr>\n",
       "    <tr>\n",
       "      <td>Own-child</td>\n",
       "      <td>98.677979</td>\n",
       "      <td>1.322021</td>\n",
       "    </tr>\n",
       "  </tbody>\n",
       "</table>\n",
       "</div>"
      ],
      "text/plain": [
       "Income              <=50K       >50K\n",
       "relationship                        \n",
       "Wife            52.487245  47.512755\n",
       "Husband         55.142879  44.857121\n",
       "Not-in-family   89.692956  10.307044\n",
       "Unmarried       93.673825   6.326175\n",
       "Other-relative  96.228338   3.771662\n",
       "Own-child       98.677979   1.322021"
      ]
     },
     "execution_count": 70,
     "metadata": {},
     "output_type": "execute_result"
    }
   ],
   "source": [
    "rppct=pd.crosstab(train_data['relationship'], train_data['Income']).apply(lambda r: r/r.sum(), axis=1)*100\n",
    "rppct.sort_values(by='>50K', ascending=False, inplace=True)\n",
    "rppct"
   ]
  },
  {
   "cell_type": "code",
   "execution_count": 71,
   "metadata": {},
   "outputs": [
    {
     "data": {
      "text/plain": [
       "([<matplotlib.axis.YTick at 0x187f8b3a348>,\n",
       "  <matplotlib.axis.YTick at 0x187f8b36988>,\n",
       "  <matplotlib.axis.YTick at 0x187f8b34b08>,\n",
       "  <matplotlib.axis.YTick at 0x187f8b905c8>,\n",
       "  <matplotlib.axis.YTick at 0x187f8b996c8>,\n",
       "  <matplotlib.axis.YTick at 0x187f8b99c88>,\n",
       "  <matplotlib.axis.YTick at 0x187f8b9b608>,\n",
       "  <matplotlib.axis.YTick at 0x187f8b9e248>,\n",
       "  <matplotlib.axis.YTick at 0x187f8b9ec48>,\n",
       "  <matplotlib.axis.YTick at 0x187f8ba5708>,\n",
       "  <matplotlib.axis.YTick at 0x187f8ba8208>],\n",
       " <a list of 11 Text yticklabel objects>)"
      ]
     },
     "execution_count": 71,
     "metadata": {},
     "output_type": "execute_result"
    },
    {
     "data": {
      "image/png": "[encoded data removed]",
      "text/plain": [
       "<Figure size 504x360 with 1 Axes>"
      ]
     },
     "metadata": {
      "needs_background": "light"
     },
     "output_type": "display_data"
    }
   ],
   "source": [
    "rppct.plot.bar(stacked=True, figsize=(7, 5))\n",
    "plt.legend(loc='lower right')\n",
    "plt.yticks(list(range(0, 101, 10)))"
   ]
  },
  {
   "cell_type": "markdown",
   "metadata": {},
   "source": [
    "<b>Married individuals whether a wife or a husband are more likely to have make >50k. This variable might also be good for predicting income.</b>"
   ]
  },
  {
   "cell_type": "code",
   "execution_count": 72,
   "metadata": {},
   "outputs": [
    {
     "data": {
      "text/html": [
       "<div>\n",
       "<style scoped>\n",
       "    .dataframe tbody tr th:only-of-type {\n",
       "        vertical-align: middle;\n",
       "    }\n",
       "\n",
       "    .dataframe tbody tr th {\n",
       "        vertical-align: top;\n",
       "    }\n",
       "\n",
       "    .dataframe thead th {\n",
       "        text-align: right;\n",
       "    }\n",
       "</style>\n",
       "<table border=\"1\" class=\"dataframe\">\n",
       "  <thead>\n",
       "    <tr style=\"text-align: right;\">\n",
       "      <th>Income</th>\n",
       "      <th>&lt;=50K</th>\n",
       "      <th>&gt;50K</th>\n",
       "    </tr>\n",
       "    <tr>\n",
       "      <th>race</th>\n",
       "      <th></th>\n",
       "      <th></th>\n",
       "    </tr>\n",
       "  </thead>\n",
       "  <tbody>\n",
       "    <tr>\n",
       "      <td>Asian-Pac-Islander</td>\n",
       "      <td>73.435996</td>\n",
       "      <td>26.564004</td>\n",
       "    </tr>\n",
       "    <tr>\n",
       "      <td>White</td>\n",
       "      <td>74.414006</td>\n",
       "      <td>25.585994</td>\n",
       "    </tr>\n",
       "    <tr>\n",
       "      <td>Black</td>\n",
       "      <td>87.612036</td>\n",
       "      <td>12.387964</td>\n",
       "    </tr>\n",
       "    <tr>\n",
       "      <td>Amer-Indian-Eskimo</td>\n",
       "      <td>88.424437</td>\n",
       "      <td>11.575563</td>\n",
       "    </tr>\n",
       "    <tr>\n",
       "      <td>Other</td>\n",
       "      <td>90.774908</td>\n",
       "      <td>9.225092</td>\n",
       "    </tr>\n",
       "  </tbody>\n",
       "</table>\n",
       "</div>"
      ],
      "text/plain": [
       "Income                  <=50K       >50K\n",
       "race                                    \n",
       "Asian-Pac-Islander  73.435996  26.564004\n",
       "White               74.414006  25.585994\n",
       "Black               87.612036  12.387964\n",
       "Amer-Indian-Eskimo  88.424437  11.575563\n",
       "Other               90.774908   9.225092"
      ]
     },
     "execution_count": 72,
     "metadata": {},
     "output_type": "execute_result"
    }
   ],
   "source": [
    "racct=pd.crosstab(train_data['race'], train_data['Income']).apply(lambda r: r/r.sum(), axis=1)*100\n",
    "racct.sort_values(by='>50K', ascending=False, inplace=True)\n",
    "racct"
   ]
  },
  {
   "cell_type": "code",
   "execution_count": 73,
   "metadata": {},
   "outputs": [
    {
     "data": {
      "text/plain": [
       "([<matplotlib.axis.YTick at 0x187f8bd8788>,\n",
       "  <matplotlib.axis.YTick at 0x187f8bd3dc8>,\n",
       "  <matplotlib.axis.YTick at 0x187f8bcfec8>,\n",
       "  <matplotlib.axis.YTick at 0x187f8c2fa88>,\n",
       "  <matplotlib.axis.YTick at 0x187f8c34548>,\n",
       "  <matplotlib.axis.YTick at 0x187f8c380c8>,\n",
       "  <matplotlib.axis.YTick at 0x187f8c2fb08>,\n",
       "  <matplotlib.axis.YTick at 0x187f8c38608>,\n",
       "  <matplotlib.axis.YTick at 0x187f8c3b288>,\n",
       "  <matplotlib.axis.YTick at 0x187f8c3b8c8>,\n",
       "  <matplotlib.axis.YTick at 0x187f8c3f488>],\n",
       " <a list of 11 Text yticklabel objects>)"
      ]
     },
     "execution_count": 73,
     "metadata": {},
     "output_type": "execute_result"
    },
    {
     "data": {
      "image/png": "[encoded data removed]",
      "text/plain": [
       "<Figure size 504x360 with 1 Axes>"
      ]
     },
     "metadata": {
      "needs_background": "light"
     },
     "output_type": "display_data"
    }
   ],
   "source": [
    "racct.plot.bar(stacked=True, figsize=(7, 5))\n",
    "plt.legend(loc='lower right')\n",
    "plt.yticks(list(range(0, 101, 10)))"
   ]
  },
  {
   "cell_type": "markdown",
   "metadata": {},
   "source": [
    "<b>Asian-Pac-Islander and White individuals are more likely to make >50k than other races. This variable might not be a good indicator for predicting income.</b>"
   ]
  },
  {
   "cell_type": "code",
   "execution_count": 74,
   "metadata": {},
   "outputs": [
    {
     "data": {
      "text/html": [
       "<div>\n",
       "<style scoped>\n",
       "    .dataframe tbody tr th:only-of-type {\n",
       "        vertical-align: middle;\n",
       "    }\n",
       "\n",
       "    .dataframe tbody tr th {\n",
       "        vertical-align: top;\n",
       "    }\n",
       "\n",
       "    .dataframe thead th {\n",
       "        text-align: right;\n",
       "    }\n",
       "</style>\n",
       "<table border=\"1\" class=\"dataframe\">\n",
       "  <thead>\n",
       "    <tr style=\"text-align: right;\">\n",
       "      <th>Income</th>\n",
       "      <th>&lt;=50K</th>\n",
       "      <th>&gt;50K</th>\n",
       "    </tr>\n",
       "    <tr>\n",
       "      <th>sex</th>\n",
       "      <th></th>\n",
       "      <th></th>\n",
       "    </tr>\n",
       "  </thead>\n",
       "  <tbody>\n",
       "    <tr>\n",
       "      <td>Male</td>\n",
       "      <td>69.426342</td>\n",
       "      <td>30.573658</td>\n",
       "    </tr>\n",
       "    <tr>\n",
       "      <td>Female</td>\n",
       "      <td>89.053941</td>\n",
       "      <td>10.946059</td>\n",
       "    </tr>\n",
       "  </tbody>\n",
       "</table>\n",
       "</div>"
      ],
      "text/plain": [
       "Income      <=50K       >50K\n",
       "sex                         \n",
       "Male    69.426342  30.573658\n",
       "Female  89.053941  10.946059"
      ]
     },
     "execution_count": 74,
     "metadata": {},
     "output_type": "execute_result"
    }
   ],
   "source": [
    "sxct=pd.crosstab(train_data['sex'], train_data['Income']).apply(lambda r: r/r.sum(), axis=1)*100\n",
    "sxct.sort_values(by='>50K', ascending=False, inplace=True)\n",
    "sxct"
   ]
  },
  {
   "cell_type": "code",
   "execution_count": 75,
   "metadata": {},
   "outputs": [
    {
     "data": {
      "text/plain": [
       "([<matplotlib.axis.YTick at 0x187f8c73e08>,\n",
       "  <matplotlib.axis.YTick at 0x187f8c73488>,\n",
       "  <matplotlib.axis.YTick at 0x187f8c6a688>,\n",
       "  <matplotlib.axis.YTick at 0x187f8cbebc8>,\n",
       "  <matplotlib.axis.YTick at 0x187f8cc1748>,\n",
       "  <matplotlib.axis.YTick at 0x187f8cc6288>,\n",
       "  <matplotlib.axis.YTick at 0x187f8cc6cc8>,\n",
       "  <matplotlib.axis.YTick at 0x187f8cca788>,\n",
       "  <matplotlib.axis.YTick at 0x187f8ccd2c8>,\n",
       "  <matplotlib.axis.YTick at 0x187f8cc6bc8>,\n",
       "  <matplotlib.axis.YTick at 0x187f8ccd9c8>],\n",
       " <a list of 11 Text yticklabel objects>)"
      ]
     },
     "execution_count": 75,
     "metadata": {},
     "output_type": "execute_result"
    },
    {
     "data": {
      "image/png": "[encoded data removed]",
      "text/plain": [
       "<Figure size 504x360 with 1 Axes>"
      ]
     },
     "metadata": {
      "needs_background": "light"
     },
     "output_type": "display_data"
    }
   ],
   "source": [
    "sxct.plot.bar(stacked=True, figsize=(7, 5))\n",
    "plt.legend(loc='lower right')\n",
    "plt.yticks(list(range(0, 101, 10)))"
   ]
  },
  {
   "cell_type": "markdown",
   "metadata": {},
   "source": [
    "<b>Sex might also be a good indicator for predicting income. More males make >50k than females.</b>"
   ]
  },
  {
   "cell_type": "code",
   "execution_count": 76,
   "metadata": {},
   "outputs": [
    {
     "data": {
      "text/plain": [
       "([<matplotlib.axis.YTick at 0x187f8cff948>,\n",
       "  <matplotlib.axis.YTick at 0x187f8cff308>,\n",
       "  <matplotlib.axis.YTick at 0x187f8cf0248>,\n",
       "  <matplotlib.axis.YTick at 0x187f8d44948>,\n",
       "  <matplotlib.axis.YTick at 0x187f8d450c8>,\n",
       "  <matplotlib.axis.YTick at 0x187f8d458c8>,\n",
       "  <matplotlib.axis.YTick at 0x187f8d4c248>,\n",
       "  <matplotlib.axis.YTick at 0x187f8d4ca48>,\n",
       "  <matplotlib.axis.YTick at 0x187f8d52308>,\n",
       "  <matplotlib.axis.YTick at 0x187f8d52b88>,\n",
       "  <matplotlib.axis.YTick at 0x187f8d56408>],\n",
       " <a list of 11 Text yticklabel objects>)"
      ]
     },
     "execution_count": 76,
     "metadata": {},
     "output_type": "execute_result"
    },
    {
     "data": {
      "image/png": "[encoded data removed]",
      "text/plain": [
       "<Figure size 432x432 with 1 Axes>"
      ]
     },
     "metadata": {
      "needs_background": "light"
     },
     "output_type": "display_data"
    }
   ],
   "source": [
    "temp_df=train_data[['capital-gain', 'Income']]\n",
    "temp_df=temp_df[(temp_df['capital-gain']!=0) & (temp_df['capital-gain']!=99999)]\n",
    "plt.figure(figsize=(6,6))\n",
    "sns.boxplot(temp_df['Income'], temp_df['capital-gain'])\n",
    "plt.yticks(list(range(0, 50001, 5000)))"
   ]
  },
  {
   "cell_type": "markdown",
   "metadata": {},
   "source": [
    "<b>While 0 is an issue that needs to be solved, capital gains is a good indicator for income. The higher the capital-gains, the higher the income.</b>"
   ]
  },
  {
   "cell_type": "code",
   "execution_count": 77,
   "metadata": {},
   "outputs": [
    {
     "data": {
      "text/plain": [
       "([<matplotlib.axis.YTick at 0x187f8d86108>,\n",
       "  <matplotlib.axis.YTick at 0x187f8cf0208>,\n",
       "  <matplotlib.axis.YTick at 0x187f8d92448>,\n",
       "  <matplotlib.axis.YTick at 0x187f8dad408>,\n",
       "  <matplotlib.axis.YTick at 0x187f8dd2508>,\n",
       "  <matplotlib.axis.YTick at 0x187f8dd2d48>,\n",
       "  <matplotlib.axis.YTick at 0x187f8dd6648>,\n",
       "  <matplotlib.axis.YTick at 0x187f8dd6dc8>,\n",
       "  <matplotlib.axis.YTick at 0x187f8dda788>,\n",
       "  <matplotlib.axis.YTick at 0x187f8dde0c8>],\n",
       " <a list of 10 Text yticklabel objects>)"
      ]
     },
     "execution_count": 77,
     "metadata": {},
     "output_type": "execute_result"
    },
    {
     "data": {
      "image/png": "[encoded data removed]",
      "text/plain": [
       "<Figure size 432x432 with 1 Axes>"
      ]
     },
     "metadata": {
      "needs_background": "light"
     },
     "output_type": "display_data"
    }
   ],
   "source": [
    "temp_df=train_data[['capital-loss', 'Income']]\n",
    "temp_df=temp_df[temp_df['capital-loss']!=0]\n",
    "plt.figure(figsize=(6,6))\n",
    "sns.boxplot(temp_df['Income'], temp_df['capital-loss'])\n",
    "plt.yticks(list(range(0, 4501, 500)))"
   ]
  },
  {
   "cell_type": "markdown",
   "metadata": {},
   "source": [
    "<b>While 0 is an issue that needs to be solved, capital loss is a good indicator for income. The higher the capital-loss, the higher the income.</b>"
   ]
  },
  {
   "cell_type": "code",
   "execution_count": 78,
   "metadata": {},
   "outputs": [
    {
     "data": {
      "text/plain": [
       "([<matplotlib.axis.YTick at 0x187f8cd5588>,\n",
       "  <matplotlib.axis.YTick at 0x187f8e075c8>,\n",
       "  <matplotlib.axis.YTick at 0x187f8dffe48>,\n",
       "  <matplotlib.axis.YTick at 0x187f8e2ca08>,\n",
       "  <matplotlib.axis.YTick at 0x187f8e53d88>,\n",
       "  <matplotlib.axis.YTick at 0x187f8e53c08>,\n",
       "  <matplotlib.axis.YTick at 0x187f8e59a88>,\n",
       "  <matplotlib.axis.YTick at 0x187f8e5d348>,\n",
       "  <matplotlib.axis.YTick at 0x187f8e5dbc8>,\n",
       "  <matplotlib.axis.YTick at 0x187f8e62488>,\n",
       "  <matplotlib.axis.YTick at 0x187f8e62cc8>],\n",
       " <a list of 11 Text yticklabel objects>)"
      ]
     },
     "execution_count": 78,
     "metadata": {},
     "output_type": "execute_result"
    },
    {
     "data": {
      "image/png": "[encoded data removed]",
      "text/plain": [
       "<Figure size 432x432 with 1 Axes>"
      ]
     },
     "metadata": {
      "needs_background": "light"
     },
     "output_type": "display_data"
    }
   ],
   "source": [
    "plt.figure(figsize=(6,6))\n",
    "sns.boxplot(train_data['Income'], train_data['hours-per-week'])\n",
    "plt.yticks(list(range(0, 101, 10)))"
   ]
  },
  {
   "cell_type": "markdown",
   "metadata": {},
   "source": [
    "<b>Individuals who work more per week tend to have higher percentage of >50k. This also might be a good indicator for predicting income</b>"
   ]
  },
  {
   "cell_type": "code",
   "execution_count": 79,
   "metadata": {},
   "outputs": [
    {
     "data": {
      "text/html": [
       "<div>\n",
       "<style scoped>\n",
       "    .dataframe tbody tr th:only-of-type {\n",
       "        vertical-align: middle;\n",
       "    }\n",
       "\n",
       "    .dataframe tbody tr th {\n",
       "        vertical-align: top;\n",
       "    }\n",
       "\n",
       "    .dataframe thead th {\n",
       "        text-align: right;\n",
       "    }\n",
       "</style>\n",
       "<table border=\"1\" class=\"dataframe\">\n",
       "  <thead>\n",
       "    <tr style=\"text-align: right;\">\n",
       "      <th>Income</th>\n",
       "      <th>&lt;=50K</th>\n",
       "      <th>&gt;50K</th>\n",
       "    </tr>\n",
       "    <tr>\n",
       "      <th>native-country</th>\n",
       "      <th></th>\n",
       "      <th></th>\n",
       "    </tr>\n",
       "  </thead>\n",
       "  <tbody>\n",
       "    <tr>\n",
       "      <td>Iran</td>\n",
       "      <td>58.139535</td>\n",
       "      <td>41.860465</td>\n",
       "    </tr>\n",
       "    <tr>\n",
       "      <td>France</td>\n",
       "      <td>58.620690</td>\n",
       "      <td>41.379310</td>\n",
       "    </tr>\n",
       "    <tr>\n",
       "      <td>India</td>\n",
       "      <td>60.000000</td>\n",
       "      <td>40.000000</td>\n",
       "    </tr>\n",
       "    <tr>\n",
       "      <td>Taiwan</td>\n",
       "      <td>60.784314</td>\n",
       "      <td>39.215686</td>\n",
       "    </tr>\n",
       "    <tr>\n",
       "      <td>Japan</td>\n",
       "      <td>61.290323</td>\n",
       "      <td>38.709677</td>\n",
       "    </tr>\n",
       "    <tr>\n",
       "      <td>Yugoslavia</td>\n",
       "      <td>62.500000</td>\n",
       "      <td>37.500000</td>\n",
       "    </tr>\n",
       "    <tr>\n",
       "      <td>Cambodia</td>\n",
       "      <td>63.157895</td>\n",
       "      <td>36.842105</td>\n",
       "    </tr>\n",
       "    <tr>\n",
       "      <td>Italy</td>\n",
       "      <td>65.753425</td>\n",
       "      <td>34.246575</td>\n",
       "    </tr>\n",
       "    <tr>\n",
       "      <td>England</td>\n",
       "      <td>66.666667</td>\n",
       "      <td>33.333333</td>\n",
       "    </tr>\n",
       "    <tr>\n",
       "      <td>Canada</td>\n",
       "      <td>67.768595</td>\n",
       "      <td>32.231405</td>\n",
       "    </tr>\n",
       "    <tr>\n",
       "      <td>Germany</td>\n",
       "      <td>67.883212</td>\n",
       "      <td>32.116788</td>\n",
       "    </tr>\n",
       "    <tr>\n",
       "      <td>Philippines</td>\n",
       "      <td>69.191919</td>\n",
       "      <td>30.808081</td>\n",
       "    </tr>\n",
       "    <tr>\n",
       "      <td>Hong</td>\n",
       "      <td>70.000000</td>\n",
       "      <td>30.000000</td>\n",
       "    </tr>\n",
       "    <tr>\n",
       "      <td>Greece</td>\n",
       "      <td>72.413793</td>\n",
       "      <td>27.586207</td>\n",
       "    </tr>\n",
       "    <tr>\n",
       "      <td>China</td>\n",
       "      <td>73.333333</td>\n",
       "      <td>26.666667</td>\n",
       "    </tr>\n",
       "    <tr>\n",
       "      <td>Cuba</td>\n",
       "      <td>73.684211</td>\n",
       "      <td>26.315789</td>\n",
       "    </tr>\n",
       "    <tr>\n",
       "      <td>Scotland</td>\n",
       "      <td>75.000000</td>\n",
       "      <td>25.000000</td>\n",
       "    </tr>\n",
       "    <tr>\n",
       "      <td>United-States</td>\n",
       "      <td>75.416524</td>\n",
       "      <td>24.583476</td>\n",
       "    </tr>\n",
       "    <tr>\n",
       "      <td>Hungary</td>\n",
       "      <td>76.923077</td>\n",
       "      <td>23.076923</td>\n",
       "    </tr>\n",
       "    <tr>\n",
       "      <td>Ireland</td>\n",
       "      <td>79.166667</td>\n",
       "      <td>20.833333</td>\n",
       "    </tr>\n",
       "    <tr>\n",
       "      <td>South</td>\n",
       "      <td>80.000000</td>\n",
       "      <td>20.000000</td>\n",
       "    </tr>\n",
       "    <tr>\n",
       "      <td>Poland</td>\n",
       "      <td>80.000000</td>\n",
       "      <td>20.000000</td>\n",
       "    </tr>\n",
       "    <tr>\n",
       "      <td>Thailand</td>\n",
       "      <td>83.333333</td>\n",
       "      <td>16.666667</td>\n",
       "    </tr>\n",
       "    <tr>\n",
       "      <td>Ecuador</td>\n",
       "      <td>85.714286</td>\n",
       "      <td>14.285714</td>\n",
       "    </tr>\n",
       "    <tr>\n",
       "      <td>Jamaica</td>\n",
       "      <td>87.654321</td>\n",
       "      <td>12.345679</td>\n",
       "    </tr>\n",
       "    <tr>\n",
       "      <td>Laos</td>\n",
       "      <td>88.888889</td>\n",
       "      <td>11.111111</td>\n",
       "    </tr>\n",
       "    <tr>\n",
       "      <td>Portugal</td>\n",
       "      <td>89.189189</td>\n",
       "      <td>10.810811</td>\n",
       "    </tr>\n",
       "    <tr>\n",
       "      <td>Puerto-Rico</td>\n",
       "      <td>89.473684</td>\n",
       "      <td>10.526316</td>\n",
       "    </tr>\n",
       "    <tr>\n",
       "      <td>Trinadad&amp;Tobago</td>\n",
       "      <td>89.473684</td>\n",
       "      <td>10.526316</td>\n",
       "    </tr>\n",
       "    <tr>\n",
       "      <td>Haiti</td>\n",
       "      <td>90.909091</td>\n",
       "      <td>9.090909</td>\n",
       "    </tr>\n",
       "    <tr>\n",
       "      <td>El-Salvador</td>\n",
       "      <td>91.509434</td>\n",
       "      <td>8.490566</td>\n",
       "    </tr>\n",
       "    <tr>\n",
       "      <td>Honduras</td>\n",
       "      <td>92.307692</td>\n",
       "      <td>7.692308</td>\n",
       "    </tr>\n",
       "    <tr>\n",
       "      <td>Vietnam</td>\n",
       "      <td>92.537313</td>\n",
       "      <td>7.462687</td>\n",
       "    </tr>\n",
       "    <tr>\n",
       "      <td>Peru</td>\n",
       "      <td>93.548387</td>\n",
       "      <td>6.451613</td>\n",
       "    </tr>\n",
       "    <tr>\n",
       "      <td>Nicaragua</td>\n",
       "      <td>94.117647</td>\n",
       "      <td>5.882353</td>\n",
       "    </tr>\n",
       "    <tr>\n",
       "      <td>Mexico</td>\n",
       "      <td>94.867807</td>\n",
       "      <td>5.132193</td>\n",
       "    </tr>\n",
       "    <tr>\n",
       "      <td>Guatemala</td>\n",
       "      <td>95.312500</td>\n",
       "      <td>4.687500</td>\n",
       "    </tr>\n",
       "    <tr>\n",
       "      <td>Columbia</td>\n",
       "      <td>96.610169</td>\n",
       "      <td>3.389831</td>\n",
       "    </tr>\n",
       "    <tr>\n",
       "      <td>Dominican-Republic</td>\n",
       "      <td>97.142857</td>\n",
       "      <td>2.857143</td>\n",
       "    </tr>\n",
       "    <tr>\n",
       "      <td>Outlying-US(Guam-USVI-etc)</td>\n",
       "      <td>100.000000</td>\n",
       "      <td>0.000000</td>\n",
       "    </tr>\n",
       "    <tr>\n",
       "      <td>Holand-Netherlands</td>\n",
       "      <td>100.000000</td>\n",
       "      <td>0.000000</td>\n",
       "    </tr>\n",
       "  </tbody>\n",
       "</table>\n",
       "</div>"
      ],
      "text/plain": [
       "Income                           <=50K       >50K\n",
       "native-country                                   \n",
       "Iran                         58.139535  41.860465\n",
       "France                       58.620690  41.379310\n",
       "India                        60.000000  40.000000\n",
       "Taiwan                       60.784314  39.215686\n",
       "Japan                        61.290323  38.709677\n",
       "Yugoslavia                   62.500000  37.500000\n",
       "Cambodia                     63.157895  36.842105\n",
       "Italy                        65.753425  34.246575\n",
       "England                      66.666667  33.333333\n",
       "Canada                       67.768595  32.231405\n",
       "Germany                      67.883212  32.116788\n",
       "Philippines                  69.191919  30.808081\n",
       "Hong                         70.000000  30.000000\n",
       "Greece                       72.413793  27.586207\n",
       "China                        73.333333  26.666667\n",
       "Cuba                         73.684211  26.315789\n",
       "Scotland                     75.000000  25.000000\n",
       "United-States                75.416524  24.583476\n",
       "Hungary                      76.923077  23.076923\n",
       "Ireland                      79.166667  20.833333\n",
       "South                        80.000000  20.000000\n",
       "Poland                       80.000000  20.000000\n",
       "Thailand                     83.333333  16.666667\n",
       "Ecuador                      85.714286  14.285714\n",
       "Jamaica                      87.654321  12.345679\n",
       "Laos                         88.888889  11.111111\n",
       "Portugal                     89.189189  10.810811\n",
       "Puerto-Rico                  89.473684  10.526316\n",
       "Trinadad&Tobago              89.473684  10.526316\n",
       "Haiti                        90.909091   9.090909\n",
       "El-Salvador                  91.509434   8.490566\n",
       "Honduras                     92.307692   7.692308\n",
       "Vietnam                      92.537313   7.462687\n",
       "Peru                         93.548387   6.451613\n",
       "Nicaragua                    94.117647   5.882353\n",
       "Mexico                       94.867807   5.132193\n",
       "Guatemala                    95.312500   4.687500\n",
       "Columbia                     96.610169   3.389831\n",
       "Dominican-Republic           97.142857   2.857143\n",
       "Outlying-US(Guam-USVI-etc)  100.000000   0.000000\n",
       "Holand-Netherlands          100.000000   0.000000"
      ]
     },
     "execution_count": 79,
     "metadata": {},
     "output_type": "execute_result"
    }
   ],
   "source": [
    "ncct=pd.crosstab(train_data['native-country'], train_data['Income']).apply(lambda r: r/r.sum(), axis=1)*100\n",
    "ncct.sort_values(by='>50K', ascending=False, inplace=True)\n",
    "ncct"
   ]
  },
  {
   "cell_type": "code",
   "execution_count": 80,
   "metadata": {},
   "outputs": [
    {
     "data": {
      "text/plain": [
       "([<matplotlib.axis.YTick at 0x187f8e97d88>,\n",
       "  <matplotlib.axis.YTick at 0x187f8e973c8>,\n",
       "  <matplotlib.axis.YTick at 0x187f8e59308>,\n",
       "  <matplotlib.axis.YTick at 0x187f8fffb48>,\n",
       "  <matplotlib.axis.YTick at 0x187f8ff3a88>,\n",
       "  <matplotlib.axis.YTick at 0x187f8fefb08>,\n",
       "  <matplotlib.axis.YTick at 0x187f9002c08>,\n",
       "  <matplotlib.axis.YTick at 0x187f9006788>,\n",
       "  <matplotlib.axis.YTick at 0x187f9009448>,\n",
       "  <matplotlib.axis.YTick at 0x187f900c088>,\n",
       "  <matplotlib.axis.YTick at 0x187f900cac8>],\n",
       " <a list of 11 Text yticklabel objects>)"
      ]
     },
     "execution_count": 80,
     "metadata": {},
     "output_type": "execute_result"
    },
    {
     "data": {
      "image/png": "[encoded data removed]",
      "text/plain": [
       "<Figure size 720x360 with 1 Axes>"
      ]
     },
     "metadata": {
      "needs_background": "light"
     },
     "output_type": "display_data"
    }
   ],
   "source": [
    "ncct.plot.bar(stacked=True, figsize=(10, 5))\n",
    "plt.legend(loc='lower right')\n",
    "plt.yticks(list(range(0, 101, 10)))"
   ]
  },
  {
   "cell_type": "markdown",
   "metadata": {},
   "source": [
    "<b>Individuals from Iran and France have the highest percentage of >50k. It is also apparent that the income varies between different individuals from different native countries. native-country might be a good indicator for predicting income</b>"
   ]
  },
  {
   "cell_type": "markdown",
   "metadata": {},
   "source": [
    "<b>Predicting using Gradient Boosting</b>"
   ]
  },
  {
   "cell_type": "code",
   "execution_count": 81,
   "metadata": {},
   "outputs": [],
   "source": [
    "#train_data.dropna(axis=0, inplace=True)\n",
    "#test_data.dropna(axis=0, inplace=True)"
   ]
  },
  {
   "cell_type": "code",
   "execution_count": 82,
   "metadata": {},
   "outputs": [],
   "source": [
    "#X_train=train_data.iloc[:,:-1]\n",
    "#y_train=train_data.iloc[:,-1]"
   ]
  },
  {
   "cell_type": "code",
   "execution_count": 83,
   "metadata": {},
   "outputs": [],
   "source": [
    "#X_test=test_data.iloc[:,:-1]\n",
    "#y_test=test_data.iloc[:,-1]"
   ]
  },
  {
   "cell_type": "code",
   "execution_count": 84,
   "metadata": {},
   "outputs": [],
   "source": [
    "#X_train.drop(['education'], axis=1, inplace=True)"
   ]
  },
  {
   "cell_type": "code",
   "execution_count": 85,
   "metadata": {},
   "outputs": [],
   "source": [
    "#X_test.drop(['education'], axis=1, inplace=True)"
   ]
  },
  {
   "cell_type": "code",
   "execution_count": 86,
   "metadata": {},
   "outputs": [],
   "source": [
    "#X_train_temp=pd.DataFrame()\n",
    "#for (columnName, columnData) in X_train.iteritems():\n",
    "#    le = preprocessing.LabelEncoder()\n",
    "#    X_train_temp[columnName]=le.fit_transform(columnData)\n",
    "#X_train=X_train_temp\n",
    "#del X_train_temp"
   ]
  },
  {
   "cell_type": "code",
   "execution_count": 87,
   "metadata": {},
   "outputs": [],
   "source": [
    "#X_test_temp=pd.DataFrame()\n",
    "#for (columnName, columnData) in X_test.iteritems():\n",
    "#    le = preprocessing.LabelEncoder()\n",
    "#    X_test_temp[columnName]=le.fit_transform(columnData)\n",
    "#X_test=X_test_temp\n",
    "#del X_test_temp"
   ]
  },
  {
   "cell_type": "code",
   "execution_count": 88,
   "metadata": {},
   "outputs": [],
   "source": [
    "#le = preprocessing.LabelEncoder()\n",
    "#y_train=le.fit_transform(y_train)"
   ]
  },
  {
   "cell_type": "code",
   "execution_count": 89,
   "metadata": {},
   "outputs": [],
   "source": [
    "#le = preprocessing.LabelEncoder()\n",
    "#y_test=le.fit_transform(y_test)"
   ]
  },
  {
   "cell_type": "code",
   "execution_count": 90,
   "metadata": {},
   "outputs": [],
   "source": [
    "#est = DecisionTreeClassifier()\n",
    "#param_grid = {'criterion': ['gini', 'entropy'], 'splitter': ['best', 'random'], 'min_samples_split': [2, 3], 'min_samples_leaf': [1, 2], 'max_features': ['auto', 'sqrt', 'log2']}\n",
    "#gs_class = GridSearchCV(est, param_grid, n_jobs=-1, verbose=0, cv=5, scoring='balanced_accuracy')\n",
    "#res_cv=gs_class.fit(X_train, y_train)"
   ]
  },
  {
   "cell_type": "code",
   "execution_count": 91,
   "metadata": {},
   "outputs": [],
   "source": [
    "#res_cv.best_params_"
   ]
  },
  {
   "cell_type": "code",
   "execution_count": 92,
   "metadata": {},
   "outputs": [],
   "source": [
    "#est = DecisionTreeClassifier(criterion= 'entropy', max_features= 'sqrt', min_samples_leaf= 2, min_samples_split= 2, splitter= 'best')\n",
    "#est.fit(X_train, y_train)"
   ]
  },
  {
   "cell_type": "code",
   "execution_count": 93,
   "metadata": {},
   "outputs": [],
   "source": [
    "#y_train_predict=est.predict(X_train)\n",
    "#balanced_accuracy_score(y_train, y_train_predict)"
   ]
  },
  {
   "cell_type": "code",
   "execution_count": 94,
   "metadata": {},
   "outputs": [],
   "source": [
    "#bacc_cv=cross_val_score(est, X_train, y_train, cv=5, scoring='balanced_accuracy')\n",
    "#print(bacc_cv)\n",
    "#print(np.average(bacc_cv))"
   ]
  },
  {
   "cell_type": "code",
   "execution_count": 95,
   "metadata": {},
   "outputs": [],
   "source": [
    "#y_test_predict=est.predict(X_test)\n",
    "#balanced_accuracy_score(y_test, y_test_predict)"
   ]
  },
  {
   "cell_type": "code",
   "execution_count": 96,
   "metadata": {},
   "outputs": [],
   "source": [
    "#fi_df = pd.DataFrame({'Variable': X_train.columns, 'Importance': est.feature_importances_*100})\n",
    "#fi_df.sort_values('Importance', axis=0, ascending=False, inplace=True)"
   ]
  },
  {
   "cell_type": "code",
   "execution_count": 97,
   "metadata": {},
   "outputs": [],
   "source": [
    "#plt.figure(figsize=(6,6))\n",
    "#plt.title('GB Feature Importance', fontsize=15, pad=12)\n",
    "#sns.barplot(fi_df['Variable'], fi_df['Importance'])\n",
    "#plt.xticks(rotation=90)"
   ]
  },
  {
   "cell_type": "code",
   "execution_count": 98,
   "metadata": {},
   "outputs": [],
   "source": [
    "#from IPython.display import Image  \n",
    "#from sklearn.tree import export_graphviz\n",
    "#import pydotplus\n",
    "#\n",
    "#dot_data = StringIO()\n",
    "#export_graphviz(est, out_file=dot_data,  \n",
    "#                filled=True, rounded=True,\n",
    "#                special_characters=True)\n",
    "#graph = pydotplus.graph_from_dot_data(dot_data.getvalue())  \n",
    "#Image(graph.create_png())"
   ]
  },
  {
   "cell_type": "code",
   "execution_count": 99,
   "metadata": {},
   "outputs": [],
   "source": [
    "#est = ensemble.GradientBoostingClassifier()\n",
    "#param_grid = {'n_estimators': [300, 400, 500], 'max_depth': [3, 4], 'min_samples_split': [2, 3, 4], \\\n",
    "#          'learning_rate': [0.01, 0.05, 0.1], 'subsample': [1.0], 'max_features': ['auto', 'sqrt', None]}\n",
    "#gs_class = GridSearchCV(est, param_grid, n_jobs=-1, verbose=0, cv=5, scoring='balanced_accuracy')\n",
    "#res_cv=gs_class.fit(X_train, y_train)"
   ]
  },
  {
   "cell_type": "code",
   "execution_count": 100,
   "metadata": {},
   "outputs": [],
   "source": [
    "#res_cv.best_params_"
   ]
  },
  {
   "cell_type": "code",
   "execution_count": 101,
   "metadata": {},
   "outputs": [],
   "source": [
    "#{'learning_rate': 0.1,\n",
    "# 'max_depth': 4,\n",
    "# 'max_features': 'auto',\n",
    "# 'min_samples_split': 3,\n",
    "# 'n_estimators': 500,\n",
    "# 'subsample': 1.0}"
   ]
  },
  {
   "cell_type": "code",
   "execution_count": 102,
   "metadata": {},
   "outputs": [],
   "source": [
    "#est = ensemble.GradientBoostingClassifier(learning_rate= 0.1, max_depth= 4, max_features= 'auto', min_samples_split= 3, n_estimators= 600, subsample= 1.0)\n",
    "#est.fit(X_train, y_train)"
   ]
  },
  {
   "cell_type": "code",
   "execution_count": 103,
   "metadata": {},
   "outputs": [],
   "source": [
    "#y_train_predict=est.predict(X_train)\n",
    "#balanced_accuracy_score(y_train, y_train_predict)"
   ]
  },
  {
   "cell_type": "code",
   "execution_count": 104,
   "metadata": {},
   "outputs": [],
   "source": [
    "#bacc_cv=cross_val_score(est, X_train, y_train, cv=5, scoring='balanced_accuracy')\n",
    "#print(bacc_cv)\n",
    "#print(np.average(bacc_cv))"
   ]
  },
  {
   "cell_type": "code",
   "execution_count": 105,
   "metadata": {},
   "outputs": [],
   "source": [
    "#y_test_predict=est.predict(X_test)\n",
    "#balanced_accuracy_score(y_test, y_test_predict)"
   ]
  },
  {
   "cell_type": "code",
   "execution_count": 106,
   "metadata": {},
   "outputs": [],
   "source": [
    "#fi_df = pd.DataFrame({'Variable': X_train.columns, 'Importance': est.feature_importances_*100})\n",
    "#fi_df.sort_values('Importance', axis=0, ascending=False, inplace=True)"
   ]
  },
  {
   "cell_type": "code",
   "execution_count": 107,
   "metadata": {},
   "outputs": [],
   "source": [
    "#plt.figure(figsize=(6,6))\n",
    "#plt.title('GB Feature Importance', fontsize=15, pad=12)\n",
    "#sns.barplot(fi_df['Variable'], fi_df['Importance'])\n",
    "#plt.xticks(rotation=90)"
   ]
  }
 ],
 "metadata": {
  "kernelspec": {
   "display_name": "Python 3",
   "language": "python",
   "name": "python3"
  },
  "language_info": {
   "codemirror_mode": {
    "name": "ipython",
    "version": 3
   },
   "file_extension": ".py",
   "mimetype": "text/x-python",
   "name": "python",
   "nbconvert_exporter": "python",
   "pygments_lexer": "ipython3",
   "version": "3.7.4"
  }
 },
 "nbformat": 4,
 "nbformat_minor": 2
}
